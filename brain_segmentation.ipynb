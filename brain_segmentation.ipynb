{
 "cells": [
  {
   "cell_type": "markdown",
   "metadata": {
    "id": "SG_ZMxBjplLX"
   },
   "source": [
    "Set up kaggle creditentals."
   ]
  },
  {
   "cell_type": "code",
   "execution_count": null,
   "metadata": {
    "id": "-LbElYQDceys"
   },
   "outputs": [],
   "source": [
    "import os\n",
    "import pathlib\n",
    "\n",
    "DRIVE_PATH = pathlib.Path(\"/content/drive/MyDrive/brain\")\n",
    "# !pip install -r \"/content/drive/MyDrive/brain/requirements.txt\"\n",
    "os.environ[\"KAGGLE_USERNAME\"] = \"\" # add your username\n",
    "os.environ[\"KAGGLE_KEY\"] = \"\" # add your kaggle key"
   ]
  },
  {
   "cell_type": "code",
   "execution_count": null,
   "metadata": {
    "colab": {
     "base_uri": "https://localhost:8080/"
    },
    "id": "tDV_rfoPLVsI",
    "outputId": "9baf53b6-5c3a-4667-8492-33657d87f05c"
   },
   "outputs": [
    {
     "name": "stdout",
     "output_type": "stream",
     "text": [
      "Python 3.10.12\n"
     ]
    }
   ],
   "source": [
    "!python -V"
   ]
  },
  {
   "cell_type": "markdown",
   "metadata": {
    "id": "szzAaGBbDkKB"
   },
   "source": [
    "Mounting drive"
   ]
  },
  {
   "cell_type": "code",
   "execution_count": null,
   "metadata": {
    "colab": {
     "base_uri": "https://localhost:8080/"
    },
    "id": "fPbR1uugTKqN",
    "outputId": "ee794e6e-ff77-4b26-8546-30662fd4cca9"
   },
   "outputs": [
    {
     "name": "stdout",
     "output_type": "stream",
     "text": [
      "Mounted at /content/drive\n"
     ]
    }
   ],
   "source": [
    "from google.colab import drive\n",
    "drive.mount('/content/drive')"
   ]
  },
  {
   "cell_type": "markdown",
   "metadata": {
    "id": "nfjPTSKIptWk"
   },
   "source": [
    "Downlaod the content of dataset"
   ]
  },
  {
   "cell_type": "code",
   "execution_count": null,
   "metadata": {
    "colab": {
     "base_uri": "https://localhost:8080/"
    },
    "id": "fPl281h-pr83",
    "outputId": "c4362e51-2364-4923-ca85-30f976e2f8f3"
   },
   "outputs": [
    {
     "name": "stdout",
     "output_type": "stream",
     "text": [
      "Dataset URL: https://www.kaggle.com/datasets/mateuszbuda/lgg-mri-segmentation\n"
     ]
    }
   ],
   "source": [
    "import kaggle\n",
    "\n",
    "kaggle.api.authenticate()\n",
    "\n",
    "kaggle.api.dataset_download_files(\"mateuszbuda/lgg-mri-segmentation\", path=\"/content/data\", unzip=True, quiet=True)"
   ]
  },
  {
   "cell_type": "markdown",
   "metadata": {
    "id": "E6BvggNxRf7z"
   },
   "source": [
    "Split the files to 3 different folder.\n",
    "\n",
    "Distribution:\n",
    "*   Test: 5 patients\n",
    "*   Validation: 10 patients\n",
    "*   Training: 95 patients\n",
    "\n",
    "\n",
    "\n"
   ]
  },
  {
   "cell_type": "code",
   "execution_count": null,
   "metadata": {
    "id": "MnBcX1H6PfZL"
   },
   "outputs": [],
   "source": [
    "import pathlib\n",
    "file_names = sorted(pathlib.Path(\"/content/data/kaggle_3m\").glob(\"TCGA*\"))\n",
    "train_path = pathlib.Path(\"/content/data/train\")\n",
    "val_path = pathlib.Path(\"/content/data/val\")\n",
    "test_path = pathlib.Path(\"/content/data/test\")\n",
    "train_path.mkdir(exist_ok=True)\n",
    "val_path.mkdir(exist_ok=True)\n",
    "test_path.mkdir(exist_ok=True)\n",
    "\n",
    "for patient in file_names[0:5]:\n",
    "    patient.rename(test_path / patient.name)\n",
    "for patient in file_names[5:15]:\n",
    "    patient.rename(val_path / patient.name)\n",
    "for patient in file_names[15:-1]:\n",
    "    patient.rename(train_path / patient.name)\n"
   ]
  },
  {
   "cell_type": "markdown",
   "metadata": {
    "id": "jrnmJZVORYK7"
   },
   "source": [
    "Define the hyperparameters for the whole training process."
   ]
  },
  {
   "cell_type": "code",
   "execution_count": null,
   "metadata": {
    "colab": {
     "base_uri": "https://localhost:8080/"
    },
    "id": "HlyKEQH2LsNm",
    "outputId": "8b08f9df-e2fc-4af6-a2a2-5a852c1775a6"
   },
   "outputs": [
    {
     "name": "stdout",
     "output_type": "stream",
     "text": [
      "device: cuda:0\n"
     ]
    }
   ],
   "source": [
    "import pathlib\n",
    "import torch\n",
    "class HyperParameters():\n",
    "  BATCH_SIZE = 16\n",
    "  IMAGE_SIZE = 256\n",
    "  EPOCHS = 40\n",
    "  LEARNING_RATE = 0.0002\n",
    "  WEIGHTS_PATH = DRIVE_PATH\n",
    "\n",
    "device = torch.device(\"cuda:0\" if torch.cuda.is_available() else \"cpu\")\n",
    "print(f\"device: {device}\")\n"
   ]
  },
  {
   "cell_type": "markdown",
   "metadata": {
    "id": "UPQLJQ2QQ9zg"
   },
   "source": [
    "Define the transformation."
   ]
  },
  {
   "cell_type": "code",
   "execution_count": null,
   "metadata": {
    "colab": {
     "base_uri": "https://localhost:8080/"
    },
    "id": "fzTps7RKqlNm",
    "outputId": "16dff55e-c923-4666-a102-fffa6a7e047d"
   },
   "outputs": [
    {
     "name": "stderr",
     "output_type": "stream",
     "text": [
      "/usr/local/lib/python3.10/dist-packages/torchvision/transforms/v2/_deprecated.py:42: UserWarning: The transform `ToTensor()` is deprecated and will be removed in a future release. Instead, please use `v2.Compose([v2.ToImage(), v2.ToDtype(torch.float32, scale=True)])`.Output is equivalent up to float precision.\n",
      "  warnings.warn(\n"
     ]
    }
   ],
   "source": [
    "from torchvision.transforms import v2\n",
    "import torch\n",
    "\n",
    "transform = v2.Compose([\n",
    "    v2.ToTensor(),\n",
    "    v2.Resize((256, 256)),\n",
    "])\n",
    "# TODO: Augemntation may be needed"
   ]
  },
  {
   "cell_type": "markdown",
   "metadata": {
    "id": "_t0MxRABQyUT"
   },
   "source": [
    "Define a dataset and create separated dataset for each phase of learning."
   ]
  },
  {
   "cell_type": "code",
   "execution_count": null,
   "metadata": {
    "colab": {
     "base_uri": "https://localhost:8080/"
    },
    "id": "VJa5ZUbmQ-UG",
    "outputId": "86968470-f347-4966-f118-9a0a2ce6611b"
   },
   "outputs": [
    {
     "name": "stdout",
     "output_type": "stream",
     "text": [
      "data splitting:\n",
      "train\t3505\n",
      "val\t233\n",
      "test\t103\n"
     ]
    }
   ],
   "source": [
    "from typing import NamedTuple\n",
    "from torch.utils.data import Dataset\n",
    "import pathlib\n",
    "import skimage.io\n",
    "import numpy as np\n",
    "from torchvision.transforms import v2\n",
    "\n",
    "class SliceInfo(NamedTuple):\n",
    "  image: pathlib.Path\n",
    "  mask: pathlib.Path\n",
    "\n",
    "class BrainImageDataset(Dataset):\n",
    "  def __init__(self, path: pathlib.Path, transfrom: v2.Transform) -> None:\n",
    "    self._slices: list[SliceInfo] = []\n",
    "    self._transform = transform\n",
    "\n",
    "    for patient_dir in path.glob(\"TCGA*\"):\n",
    "      for mask_image in patient_dir.glob(\"*_mask.tif\"):\n",
    "        image_path = pathlib.Path(mask_image.as_posix().replace(\"_mask\",\"\"))\n",
    "        slice_info = SliceInfo(image_path, mask_image)\n",
    "        self._slices.append(slice_info)\n",
    "    self._slices.sort(key=lambda i: i.image.name)\n",
    "\n",
    "  def __getitem__(self, index) -> tuple:\n",
    "    image_path, mask_path = self._slices[index]\n",
    "    image = skimage.io.imread(image_path)\n",
    "    mask = skimage.io.imread(mask_path, as_gray=True)\n",
    "\n",
    "    image = np.array(image)\n",
    "    mask = np.array(mask)\n",
    "    info = image_path.name.split(\"/\")[-1]\n",
    "\n",
    "    image, mask = self._transform(image, mask)\n",
    "    mask = mask[0,:,:].view((1, 256, 256))\n",
    "    return image, mask, info\n",
    "\n",
    "  def __len__(self) -> int:\n",
    "    return len(self._slices)\n",
    "\n",
    "train_ds = BrainImageDataset(pathlib.Path(\"/content/data/train\"), transform)\n",
    "val_ds = BrainImageDataset(pathlib.Path(\"/content/data/val\"), transform)\n",
    "test_ds = BrainImageDataset(pathlib.Path(\"/content/data/test\"), transform)\n",
    "print(f\"data splitting:\\ntrain\\t{len(train_ds)}\\nval\\t{len(val_ds)}\\ntest\\t{len(test_ds)}\")"
   ]
  },
  {
   "cell_type": "markdown",
   "metadata": {
    "id": "30P7apMTQp8p"
   },
   "source": [
    "Helper functions to visualize the data and the result."
   ]
  },
  {
   "cell_type": "code",
   "execution_count": null,
   "metadata": {
    "id": "aJXX6PblSQfD"
   },
   "outputs": [],
   "source": [
    "from operator import imod\n",
    "import matplotlib.pyplot as plt\n",
    "import matplotlib.patches\n",
    "import torch\n",
    "import torch.nn as nn\n",
    "\n",
    "def show_image(image_ds: BrainImageDataset, index: int) -> None:\n",
    "    plt.imshow(np.squeeze(image_ds[index][0]).T)\n",
    "    plt.title(image_ds[index][2])\n",
    "\n",
    "def show_mask(image_ds: BrainImageDataset, index: int) -> None:\n",
    "    plt.imshow(np.squeeze(image_ds[index][1]).T, cmap=\"gray\")\n",
    "    plt.title(image_ds[index][2])\n",
    "\n",
    "def show_prediction(image_ds: BrainImageDataset,\n",
    "                    index: int,\n",
    "                    net: nn.Module,\n",
    "                    threshold=0.8) -> None:\n",
    "    fig, ax = plt.subplots(2, 2)\n",
    "\n",
    "    ax[0, 0].imshow(np.squeeze(image_ds[index][0]).T)\n",
    "    ax[0, 0].set_title(image_ds[index][2])\n",
    "    _remove_ticklabels(ax[0, 0])\n",
    "\n",
    "    true = np.squeeze(image_ds[index][1]).T\n",
    "    ax[0, 1].imshow(true, cmap=\"gray\")\n",
    "    ax[0, 1].set_title(\"ground truth\")\n",
    "    _remove_ticklabels(ax[0, 1])\n",
    "\n",
    "    x = image_ds[index][0].view((1,3,256,256)).to(device)\n",
    "    with torch.no_grad():\n",
    "        preds = net(x)\n",
    "    prediction = preds.detach().cpu().numpy()\n",
    "    prediction = np.squeeze(prediction[0]).T\n",
    "    ax[1, 0].imshow(prediction, cmap=\"gray\")\n",
    "    ax[1, 0].set_title(\"prediction\")\n",
    "    _remove_ticklabels(ax[1, 0])\n",
    "\n",
    "    empty_image_rgb = np.zeros((256, 256, 3), dtype=np.uint8)\n",
    "    for i in range(0, 256):\n",
    "      for j in range(0, 256):\n",
    "        if true[i, j] > 0.5:\n",
    "          empty_image_rgb[i, j, 0] = 255\n",
    "        if prediction[i, j] > threshold:\n",
    "          empty_image_rgb[i, j, 1] = 255\n",
    "\n",
    "\n",
    "    ax[1, 1].imshow(empty_image_rgb)\n",
    "    ax[1, 1].set_title(\"prediction overlay\")\n",
    "    ax[1, 1].text(-120, 20, \"ground truth\", color=\"red\", fontsize=8)\n",
    "    ax[1, 1].text(-120, 35, \"prediction\", color=\"green\", fontsize=8)\n",
    "    ax[1, 1].text(-120, 50, \"overlay\", color=\"yellow\", fontsize=8)\n",
    "    _remove_ticklabels(ax[1, 1])\n",
    "\n",
    "def show_segmentation(\n",
    "    image_ds: BrainImageDataset,\n",
    "    index: int,\n",
    "    net: nn.Module,\n",
    "    threshold=0.8\n",
    "):\n",
    "    image_rgb = np.zeros((256, 256, 3), dtype=np.uint8)\n",
    "    brain_image = np.squeeze(image_ds[index][0]).T\n",
    "    brain_mask = np.squeeze(image_ds[index][1]).T\n",
    "    input = image_ds[index][0].view((1,3,256,256)).to(device)\n",
    "    with torch.no_grad():\n",
    "        preds = net(input)\n",
    "    prediction = preds.detach().cpu().numpy()\n",
    "    prediction = np.squeeze(prediction[0]).T\n",
    "    image_rgb[:, :, 0] = brain_image[:, :, 1] * 255\n",
    "    image_rgb[:, :, 1] = brain_image[:, :, 1] * 255\n",
    "    image_rgb[:, :, 2] = brain_image[:, :, 1] * 255\n",
    "\n",
    "    for i in range(0, 256):\n",
    "        for j in range(0, 256):\n",
    "            _draw_outline(brain_mask, image_rgb, i, j, color=\"red\")\n",
    "            _draw_outline(prediction, image_rgb, i, j, color=\"green\", th=threshold)\n",
    "\n",
    "    im = plt.imshow(image_rgb)\n",
    "\n",
    "    plt.title(image_ds[index][2])\n",
    "    colors = [\"red\", \"green\", \"yellow\"]\n",
    "    values = [\"mask\", \"prediction\", \"perfect fit\"]\n",
    "    patches = [ matplotlib.patches.Patch(color=colors[i], label=values[i]) for i in range(len(values)) ]\n",
    "    plt.legend(handles=patches, bbox_to_anchor=(1.05, 1), loc=2, borderaxespad=0. )\n",
    "\n",
    "\n",
    "def _remove_ticklabels(ax) -> None:\n",
    "    ax.set_yticklabels([])\n",
    "    ax.set_xticklabels([])\n",
    "\n",
    "def _draw_outline(mask, output, i ,j, color, th=0.5):\n",
    "    channel = 0\n",
    "    if color == \"green\":\n",
    "        channel = 1\n",
    "    if color == \"blue\":\n",
    "        channel = 2\n",
    "    if mask[i, j] > th:\n",
    "        if i == 0 or j == 0 or i == 255 or j == 255:\n",
    "            output[i, j, channel] = 255\n",
    "        elif (mask[i-1, j] < th or mask[i+1, j] < th or\n",
    "              mask[i, j-1] < th or mask[i, j+1] < th):\n",
    "            output[i, j, channel] = 255\n"
   ]
  },
  {
   "cell_type": "markdown",
   "metadata": {
    "id": "s3qanwqiQlVF"
   },
   "source": [
    "Dataloaders"
   ]
  },
  {
   "cell_type": "code",
   "execution_count": null,
   "metadata": {
    "id": "t8bwXvKmVU5e"
   },
   "outputs": [],
   "source": [
    "import torch\n",
    "from torch.utils.data import DataLoader\n",
    "\n",
    "train_dl = DataLoader(dataset=train_ds, batch_size=HyperParameters.BATCH_SIZE, shuffle=True)\n",
    "\n",
    "test_dl = DataLoader(dataset=test_ds, batch_size=HyperParameters.BATCH_SIZE, shuffle=False)\n",
    "\n",
    "val_dl = DataLoader(dataset=val_ds, batch_size=HyperParameters.BATCH_SIZE, shuffle=False)"
   ]
  },
  {
   "cell_type": "markdown",
   "metadata": {
    "id": "jbSdxL_oscG3"
   },
   "source": [
    "Define a model for the image segmentation."
   ]
  },
  {
   "cell_type": "code",
   "execution_count": null,
   "metadata": {
    "id": "_yNpwNs5qV0B"
   },
   "outputs": [],
   "source": [
    "import collections\n",
    "import torch\n",
    "import torch.nn as nn\n",
    "\n",
    "class BrainSegmentationModel(nn.Module):\n",
    "  def __init__(self) -> None:\n",
    "    super().__init__()\n",
    "    features = 32\n",
    "    self.encoder1 = BrainSegmentationModel._block(3, features, name=\"enc1\")\n",
    "    self.pool1 = nn.MaxPool2d(kernel_size=2, stride=2)\n",
    "    self.encoder2 = BrainSegmentationModel._block(features, features * 2, name=\"enc2\")\n",
    "    self.pool2 = nn.MaxPool2d(kernel_size=2, stride=2)\n",
    "    self.encoder3 = BrainSegmentationModel._block(features * 2, features * 4, name=\"enc3\")\n",
    "    self.pool3 = nn.MaxPool2d(kernel_size=2, stride=2)\n",
    "    self.encoder4 = BrainSegmentationModel._block(features * 4, features * 8, name=\"enc4\")\n",
    "    self.pool4 = nn.MaxPool2d(kernel_size=2, stride=2)\n",
    "\n",
    "    self.bottleneck = BrainSegmentationModel._block(features * 8, features * 16, name=\"bottleneck\")\n",
    "\n",
    "    self.upconv4 = nn.ConvTranspose2d(\n",
    "        features * 16, features * 8, kernel_size=2, stride=2\n",
    "    )\n",
    "    self.decoder4 = BrainSegmentationModel._block((features * 8) * 2, features * 8, name=\"dec4\")\n",
    "    self.upconv3 = nn.ConvTranspose2d(\n",
    "        features * 8, features * 4, kernel_size=2, stride=2\n",
    "    )\n",
    "    self.decoder3 = BrainSegmentationModel._block((features * 4) * 2, features * 4, name=\"dec3\")\n",
    "    self.upconv2 = nn.ConvTranspose2d(\n",
    "        features * 4, features * 2, kernel_size=2, stride=2\n",
    "    )\n",
    "    self.decoder2 = BrainSegmentationModel._block((features * 2) * 2, features * 2, name=\"dec2\")\n",
    "    self.upconv1 = nn.ConvTranspose2d(\n",
    "        features * 2, features, kernel_size=2, stride=2\n",
    "    )\n",
    "    self.decoder1 = BrainSegmentationModel._block(features * 2, features, name=\"dec1\")\n",
    "\n",
    "    self.conv = nn.Conv2d(\n",
    "        in_channels=features, out_channels=1, kernel_size=1\n",
    "    )\n",
    "\n",
    "  def forward(self, x):\n",
    "      enc1 = self.encoder1(x)\n",
    "      enc2 = self.encoder2(self.pool1(enc1))\n",
    "      enc3 = self.encoder3(self.pool2(enc2))\n",
    "      enc4 = self.encoder4(self.pool3(enc3))\n",
    "\n",
    "      bottleneck = self.bottleneck(self.pool4(enc4))\n",
    "\n",
    "      dec4 = self.upconv4(bottleneck)\n",
    "      dec4 = torch.cat((dec4, enc4), dim=1)\n",
    "      dec4 = self.decoder4(dec4)\n",
    "      dec3 = self.upconv3(dec4)\n",
    "      dec3 = torch.cat((dec3, enc3), dim=1)\n",
    "      dec3 = self.decoder3(dec3)\n",
    "      dec2 = self.upconv2(dec3)\n",
    "      dec2 = torch.cat((dec2, enc2), dim=1)\n",
    "      dec2 = self.decoder2(dec2)\n",
    "      dec1 = self.upconv1(dec2)\n",
    "      dec1 = torch.cat((dec1, enc1), dim=1)\n",
    "      dec1 = self.decoder1(dec1)\n",
    "      return torch.sigmoid(self.conv(dec1))\n",
    "\n",
    "  @staticmethod\n",
    "  def _block(in_channels, features, name):\n",
    "      return nn.Sequential(\n",
    "          collections.OrderedDict(\n",
    "              [\n",
    "                  (\n",
    "                      name + \"conv1\",\n",
    "                      nn.Conv2d(\n",
    "                          in_channels=in_channels,\n",
    "                          out_channels=features,\n",
    "                          kernel_size=3,\n",
    "                          padding=1,\n",
    "                          bias=False,\n",
    "                      ),\n",
    "                  ),\n",
    "                  (name + \"norm1\", nn.BatchNorm2d(num_features=features)),\n",
    "                  (name + \"relu1\", nn.ReLU(inplace=True)),\n",
    "                  (\n",
    "                      name + \"conv2\",\n",
    "                      nn.Conv2d(\n",
    "                          in_channels=features,\n",
    "                          out_channels=features,\n",
    "                          kernel_size=3,\n",
    "                          padding=1,\n",
    "                          bias=False,\n",
    "                      ),\n",
    "                  ),\n",
    "                  (name + \"norm2\", nn.BatchNorm2d(num_features=features)),\n",
    "                  (name + \"relu2\", nn.ReLU(inplace=True)),\n",
    "              ]\n",
    "          )\n",
    "      )"
   ]
  },
  {
   "cell_type": "markdown",
   "metadata": {
    "id": "8KrI17xLLxGB"
   },
   "source": [
    "Layer information of the model"
   ]
  },
  {
   "cell_type": "code",
   "execution_count": null,
   "metadata": {
    "colab": {
     "base_uri": "https://localhost:8080/"
    },
    "id": "lJdZyHUTLwxn",
    "outputId": "774bdcd6-c095-4f2a-8322-ba2560c564be"
   },
   "outputs": [
    {
     "name": "stdout",
     "output_type": "stream",
     "text": [
      "Collecting torch-summary\n",
      "  Downloading torch_summary-1.4.5-py3-none-any.whl.metadata (18 kB)\n",
      "Downloading torch_summary-1.4.5-py3-none-any.whl (16 kB)\n",
      "Installing collected packages: torch-summary\n",
      "Successfully installed torch-summary-1.4.5\n",
      "==========================================================================================\n",
      "Layer (type:depth-idx)                   Output Shape              Param #\n",
      "==========================================================================================\n",
      "├─Sequential: 1-1                        [-1, 32, 256, 256]        --\n",
      "|    └─Conv2d: 2-1                       [-1, 32, 256, 256]        864\n",
      "|    └─BatchNorm2d: 2-2                  [-1, 32, 256, 256]        64\n",
      "|    └─ReLU: 2-3                         [-1, 32, 256, 256]        --\n",
      "|    └─Conv2d: 2-4                       [-1, 32, 256, 256]        9,216\n",
      "|    └─BatchNorm2d: 2-5                  [-1, 32, 256, 256]        64\n",
      "|    └─ReLU: 2-6                         [-1, 32, 256, 256]        --\n",
      "├─MaxPool2d: 1-2                         [-1, 32, 128, 128]        --\n",
      "├─Sequential: 1-3                        [-1, 64, 128, 128]        --\n",
      "|    └─Conv2d: 2-7                       [-1, 64, 128, 128]        18,432\n",
      "|    └─BatchNorm2d: 2-8                  [-1, 64, 128, 128]        128\n",
      "|    └─ReLU: 2-9                         [-1, 64, 128, 128]        --\n",
      "|    └─Conv2d: 2-10                      [-1, 64, 128, 128]        36,864\n",
      "|    └─BatchNorm2d: 2-11                 [-1, 64, 128, 128]        128\n",
      "|    └─ReLU: 2-12                        [-1, 64, 128, 128]        --\n",
      "├─MaxPool2d: 1-4                         [-1, 64, 64, 64]          --\n",
      "├─Sequential: 1-5                        [-1, 128, 64, 64]         --\n",
      "|    └─Conv2d: 2-13                      [-1, 128, 64, 64]         73,728\n",
      "|    └─BatchNorm2d: 2-14                 [-1, 128, 64, 64]         256\n",
      "|    └─ReLU: 2-15                        [-1, 128, 64, 64]         --\n",
      "|    └─Conv2d: 2-16                      [-1, 128, 64, 64]         147,456\n",
      "|    └─BatchNorm2d: 2-17                 [-1, 128, 64, 64]         256\n",
      "|    └─ReLU: 2-18                        [-1, 128, 64, 64]         --\n",
      "├─MaxPool2d: 1-6                         [-1, 128, 32, 32]         --\n",
      "├─Sequential: 1-7                        [-1, 256, 32, 32]         --\n",
      "|    └─Conv2d: 2-19                      [-1, 256, 32, 32]         294,912\n",
      "|    └─BatchNorm2d: 2-20                 [-1, 256, 32, 32]         512\n",
      "|    └─ReLU: 2-21                        [-1, 256, 32, 32]         --\n",
      "|    └─Conv2d: 2-22                      [-1, 256, 32, 32]         589,824\n",
      "|    └─BatchNorm2d: 2-23                 [-1, 256, 32, 32]         512\n",
      "|    └─ReLU: 2-24                        [-1, 256, 32, 32]         --\n",
      "├─MaxPool2d: 1-8                         [-1, 256, 16, 16]         --\n",
      "├─Sequential: 1-9                        [-1, 512, 16, 16]         --\n",
      "|    └─Conv2d: 2-25                      [-1, 512, 16, 16]         1,179,648\n",
      "|    └─BatchNorm2d: 2-26                 [-1, 512, 16, 16]         1,024\n",
      "|    └─ReLU: 2-27                        [-1, 512, 16, 16]         --\n",
      "|    └─Conv2d: 2-28                      [-1, 512, 16, 16]         2,359,296\n",
      "|    └─BatchNorm2d: 2-29                 [-1, 512, 16, 16]         1,024\n",
      "|    └─ReLU: 2-30                        [-1, 512, 16, 16]         --\n",
      "├─ConvTranspose2d: 1-10                  [-1, 256, 32, 32]         524,544\n",
      "├─Sequential: 1-11                       [-1, 256, 32, 32]         --\n",
      "|    └─Conv2d: 2-31                      [-1, 256, 32, 32]         1,179,648\n",
      "|    └─BatchNorm2d: 2-32                 [-1, 256, 32, 32]         512\n",
      "|    └─ReLU: 2-33                        [-1, 256, 32, 32]         --\n",
      "|    └─Conv2d: 2-34                      [-1, 256, 32, 32]         589,824\n",
      "|    └─BatchNorm2d: 2-35                 [-1, 256, 32, 32]         512\n",
      "|    └─ReLU: 2-36                        [-1, 256, 32, 32]         --\n",
      "├─ConvTranspose2d: 1-12                  [-1, 128, 64, 64]         131,200\n",
      "├─Sequential: 1-13                       [-1, 128, 64, 64]         --\n",
      "|    └─Conv2d: 2-37                      [-1, 128, 64, 64]         294,912\n",
      "|    └─BatchNorm2d: 2-38                 [-1, 128, 64, 64]         256\n",
      "|    └─ReLU: 2-39                        [-1, 128, 64, 64]         --\n",
      "|    └─Conv2d: 2-40                      [-1, 128, 64, 64]         147,456\n",
      "|    └─BatchNorm2d: 2-41                 [-1, 128, 64, 64]         256\n",
      "|    └─ReLU: 2-42                        [-1, 128, 64, 64]         --\n",
      "├─ConvTranspose2d: 1-14                  [-1, 64, 128, 128]        32,832\n",
      "├─Sequential: 1-15                       [-1, 64, 128, 128]        --\n",
      "|    └─Conv2d: 2-43                      [-1, 64, 128, 128]        73,728\n",
      "|    └─BatchNorm2d: 2-44                 [-1, 64, 128, 128]        128\n",
      "|    └─ReLU: 2-45                        [-1, 64, 128, 128]        --\n",
      "|    └─Conv2d: 2-46                      [-1, 64, 128, 128]        36,864\n",
      "|    └─BatchNorm2d: 2-47                 [-1, 64, 128, 128]        128\n",
      "|    └─ReLU: 2-48                        [-1, 64, 128, 128]        --\n",
      "├─ConvTranspose2d: 1-16                  [-1, 32, 256, 256]        8,224\n",
      "├─Sequential: 1-17                       [-1, 32, 256, 256]        --\n",
      "|    └─Conv2d: 2-49                      [-1, 32, 256, 256]        18,432\n",
      "|    └─BatchNorm2d: 2-50                 [-1, 32, 256, 256]        64\n",
      "|    └─ReLU: 2-51                        [-1, 32, 256, 256]        --\n",
      "|    └─Conv2d: 2-52                      [-1, 32, 256, 256]        9,216\n",
      "|    └─BatchNorm2d: 2-53                 [-1, 32, 256, 256]        64\n",
      "|    └─ReLU: 2-54                        [-1, 32, 256, 256]        --\n",
      "├─Conv2d: 1-18                           [-1, 1, 256, 256]         33\n",
      "==========================================================================================\n",
      "Total params: 7,763,041\n",
      "Trainable params: 7,763,041\n",
      "Non-trainable params: 0\n",
      "Total mult-adds (G): 13.69\n",
      "==========================================================================================\n",
      "Input size (MB): 0.75\n",
      "Forward/backward pass size (MB): 274.50\n",
      "Params size (MB): 29.61\n",
      "Estimated Total Size (MB): 304.86\n",
      "==========================================================================================\n"
     ]
    },
    {
     "data": {
      "text/plain": [
       "==========================================================================================\n",
       "Layer (type:depth-idx)                   Output Shape              Param #\n",
       "==========================================================================================\n",
       "├─Sequential: 1-1                        [-1, 32, 256, 256]        --\n",
       "|    └─Conv2d: 2-1                       [-1, 32, 256, 256]        864\n",
       "|    └─BatchNorm2d: 2-2                  [-1, 32, 256, 256]        64\n",
       "|    └─ReLU: 2-3                         [-1, 32, 256, 256]        --\n",
       "|    └─Conv2d: 2-4                       [-1, 32, 256, 256]        9,216\n",
       "|    └─BatchNorm2d: 2-5                  [-1, 32, 256, 256]        64\n",
       "|    └─ReLU: 2-6                         [-1, 32, 256, 256]        --\n",
       "├─MaxPool2d: 1-2                         [-1, 32, 128, 128]        --\n",
       "├─Sequential: 1-3                        [-1, 64, 128, 128]        --\n",
       "|    └─Conv2d: 2-7                       [-1, 64, 128, 128]        18,432\n",
       "|    └─BatchNorm2d: 2-8                  [-1, 64, 128, 128]        128\n",
       "|    └─ReLU: 2-9                         [-1, 64, 128, 128]        --\n",
       "|    └─Conv2d: 2-10                      [-1, 64, 128, 128]        36,864\n",
       "|    └─BatchNorm2d: 2-11                 [-1, 64, 128, 128]        128\n",
       "|    └─ReLU: 2-12                        [-1, 64, 128, 128]        --\n",
       "├─MaxPool2d: 1-4                         [-1, 64, 64, 64]          --\n",
       "├─Sequential: 1-5                        [-1, 128, 64, 64]         --\n",
       "|    └─Conv2d: 2-13                      [-1, 128, 64, 64]         73,728\n",
       "|    └─BatchNorm2d: 2-14                 [-1, 128, 64, 64]         256\n",
       "|    └─ReLU: 2-15                        [-1, 128, 64, 64]         --\n",
       "|    └─Conv2d: 2-16                      [-1, 128, 64, 64]         147,456\n",
       "|    └─BatchNorm2d: 2-17                 [-1, 128, 64, 64]         256\n",
       "|    └─ReLU: 2-18                        [-1, 128, 64, 64]         --\n",
       "├─MaxPool2d: 1-6                         [-1, 128, 32, 32]         --\n",
       "├─Sequential: 1-7                        [-1, 256, 32, 32]         --\n",
       "|    └─Conv2d: 2-19                      [-1, 256, 32, 32]         294,912\n",
       "|    └─BatchNorm2d: 2-20                 [-1, 256, 32, 32]         512\n",
       "|    └─ReLU: 2-21                        [-1, 256, 32, 32]         --\n",
       "|    └─Conv2d: 2-22                      [-1, 256, 32, 32]         589,824\n",
       "|    └─BatchNorm2d: 2-23                 [-1, 256, 32, 32]         512\n",
       "|    └─ReLU: 2-24                        [-1, 256, 32, 32]         --\n",
       "├─MaxPool2d: 1-8                         [-1, 256, 16, 16]         --\n",
       "├─Sequential: 1-9                        [-1, 512, 16, 16]         --\n",
       "|    └─Conv2d: 2-25                      [-1, 512, 16, 16]         1,179,648\n",
       "|    └─BatchNorm2d: 2-26                 [-1, 512, 16, 16]         1,024\n",
       "|    └─ReLU: 2-27                        [-1, 512, 16, 16]         --\n",
       "|    └─Conv2d: 2-28                      [-1, 512, 16, 16]         2,359,296\n",
       "|    └─BatchNorm2d: 2-29                 [-1, 512, 16, 16]         1,024\n",
       "|    └─ReLU: 2-30                        [-1, 512, 16, 16]         --\n",
       "├─ConvTranspose2d: 1-10                  [-1, 256, 32, 32]         524,544\n",
       "├─Sequential: 1-11                       [-1, 256, 32, 32]         --\n",
       "|    └─Conv2d: 2-31                      [-1, 256, 32, 32]         1,179,648\n",
       "|    └─BatchNorm2d: 2-32                 [-1, 256, 32, 32]         512\n",
       "|    └─ReLU: 2-33                        [-1, 256, 32, 32]         --\n",
       "|    └─Conv2d: 2-34                      [-1, 256, 32, 32]         589,824\n",
       "|    └─BatchNorm2d: 2-35                 [-1, 256, 32, 32]         512\n",
       "|    └─ReLU: 2-36                        [-1, 256, 32, 32]         --\n",
       "├─ConvTranspose2d: 1-12                  [-1, 128, 64, 64]         131,200\n",
       "├─Sequential: 1-13                       [-1, 128, 64, 64]         --\n",
       "|    └─Conv2d: 2-37                      [-1, 128, 64, 64]         294,912\n",
       "|    └─BatchNorm2d: 2-38                 [-1, 128, 64, 64]         256\n",
       "|    └─ReLU: 2-39                        [-1, 128, 64, 64]         --\n",
       "|    └─Conv2d: 2-40                      [-1, 128, 64, 64]         147,456\n",
       "|    └─BatchNorm2d: 2-41                 [-1, 128, 64, 64]         256\n",
       "|    └─ReLU: 2-42                        [-1, 128, 64, 64]         --\n",
       "├─ConvTranspose2d: 1-14                  [-1, 64, 128, 128]        32,832\n",
       "├─Sequential: 1-15                       [-1, 64, 128, 128]        --\n",
       "|    └─Conv2d: 2-43                      [-1, 64, 128, 128]        73,728\n",
       "|    └─BatchNorm2d: 2-44                 [-1, 64, 128, 128]        128\n",
       "|    └─ReLU: 2-45                        [-1, 64, 128, 128]        --\n",
       "|    └─Conv2d: 2-46                      [-1, 64, 128, 128]        36,864\n",
       "|    └─BatchNorm2d: 2-47                 [-1, 64, 128, 128]        128\n",
       "|    └─ReLU: 2-48                        [-1, 64, 128, 128]        --\n",
       "├─ConvTranspose2d: 1-16                  [-1, 32, 256, 256]        8,224\n",
       "├─Sequential: 1-17                       [-1, 32, 256, 256]        --\n",
       "|    └─Conv2d: 2-49                      [-1, 32, 256, 256]        18,432\n",
       "|    └─BatchNorm2d: 2-50                 [-1, 32, 256, 256]        64\n",
       "|    └─ReLU: 2-51                        [-1, 32, 256, 256]        --\n",
       "|    └─Conv2d: 2-52                      [-1, 32, 256, 256]        9,216\n",
       "|    └─BatchNorm2d: 2-53                 [-1, 32, 256, 256]        64\n",
       "|    └─ReLU: 2-54                        [-1, 32, 256, 256]        --\n",
       "├─Conv2d: 1-18                           [-1, 1, 256, 256]         33\n",
       "==========================================================================================\n",
       "Total params: 7,763,041\n",
       "Trainable params: 7,763,041\n",
       "Non-trainable params: 0\n",
       "Total mult-adds (G): 13.69\n",
       "==========================================================================================\n",
       "Input size (MB): 0.75\n",
       "Forward/backward pass size (MB): 274.50\n",
       "Params size (MB): 29.61\n",
       "Estimated Total Size (MB): 304.86\n",
       "=========================================================================================="
      ]
     },
     "execution_count": 2,
     "metadata": {},
     "output_type": "execute_result"
    }
   ],
   "source": [
    "!pip install torch-summary\n",
    "from torchsummary import summary\n",
    "summary(BrainSegmentationModel(), (3, 256, 256))"
   ]
  },
  {
   "cell_type": "markdown",
   "metadata": {
    "id": "B0_jz7zFKYuD"
   },
   "source": [
    "Load a previously saved model (Optional)"
   ]
  },
  {
   "cell_type": "code",
   "execution_count": null,
   "metadata": {
    "colab": {
     "base_uri": "https://localhost:8080/"
    },
    "id": "QEQAXi7LEBaH",
    "outputId": "3229fa6b-8a5c-4665-ef72-d5857c564f56"
   },
   "outputs": [
    {
     "name": "stdout",
     "output_type": "stream",
     "text": [
      "Model loaded\n"
     ]
    }
   ],
   "source": [
    "import torch\n",
    "net = BrainSegmentationModel()\n",
    "if device == \"cuda:0\":\n",
    "    net.load_state_dict(torch.load(HyperParameters.WEIGHTS_PATH / \"separated3UNet.pt\", weights_only=True))\n",
    "else:\n",
    "    net.load_state_dict(torch.load(HyperParameters.WEIGHTS_PATH / \"separated3UNet.pt\", map_location=torch.device('cpu'), weights_only=True))\n",
    "net.to(device)\n",
    "print(\"Model loaded\")"
   ]
  },
  {
   "cell_type": "markdown",
   "metadata": {
    "id": "Jj07XW6AQP7I"
   },
   "source": [
    "Define lossses for the segmentation."
   ]
  },
  {
   "cell_type": "code",
   "execution_count": null,
   "metadata": {
    "id": "ihAYTV1PcNXJ"
   },
   "outputs": [],
   "source": [
    "import torch.nn as nn\n",
    "\n",
    "class DiceLoss(nn.Module):\n",
    "    def __init__(self):\n",
    "        super().__init__()\n",
    "        self.smooth = 1.0\n",
    "\n",
    "    def forward(self, y_pred, y_true):\n",
    "        assert y_pred.size() == y_true.size(), f\"pred: {y_pred.size()}, true: {y_true.size()}\"\n",
    "        y_pred = y_pred[:, 0].contiguous().view(-1)\n",
    "        y_true = y_true[:, 0].contiguous().view(-1)\n",
    "        intersection = (y_pred * y_true).sum()\n",
    "        dsc = (2.0 * intersection + self.smooth) / (y_pred.sum() + y_true.sum() + self.smooth)\n",
    "        return 1.0 - dsc\n",
    "\n",
    "class IoULoss(nn.Module):\n",
    "    def __init__(self):\n",
    "        super().__init__()\n",
    "        self.smooth = 1.0\n",
    "\n",
    "    def forward(self, y_pred, y_true):\n",
    "        assert y_pred.size() == y_true.size()\n",
    "        y_pred = y_pred[:, 0].contiguous().view(-1)\n",
    "        y_true = y_true[:, 0].contiguous().view(-1)\n",
    "        intersection = (y_pred * y_true).sum()\n",
    "        union = y_pred.sum() + y_true.sum() - intersection\n",
    "        iou = union / (intersection + self.smooth)\n",
    "        return 1.0 - iou"
   ]
  },
  {
   "cell_type": "markdown",
   "metadata": {
    "id": "iA2YJLdSSCRG"
   },
   "source": [
    "Initialize the network, loss and optimizer."
   ]
  },
  {
   "cell_type": "code",
   "execution_count": null,
   "metadata": {
    "id": "NvrCAfQ7SNPz"
   },
   "outputs": [],
   "source": [
    "import torch\n",
    "\n",
    "net = BrainSegmentationModel()\n",
    "net = net.to(device)\n",
    "\n",
    "loss_func = DiceLoss()\n",
    "loss_func = loss_func.to(device)\n",
    "\n",
    "optimizer = torch.optim.Adam(net.parameters(), lr=HyperParameters.LEARNING_RATE)"
   ]
  },
  {
   "cell_type": "markdown",
   "metadata": {
    "id": "Mu7JICJS_tU_"
   },
   "source": [
    "Helper function for training."
   ]
  },
  {
   "cell_type": "code",
   "execution_count": null,
   "metadata": {
    "id": "fZUEeIdx_rRg"
   },
   "outputs": [],
   "source": [
    "def log_summary(loss_list: list[float], prefix=\"\"):\n",
    "    print(f\"{prefix}loss: {np.mean(loss_list)}\\n\")\n",
    "\n",
    "def add_loss_by_patient(loss_valid: dict[str, list[float]],\n",
    "                        info: list[str],\n",
    "                        loss_func: nn.Module,\n",
    "                        y_pred: list[torch.Tensor],\n",
    "                        y_true: list[torch.Tensor]):\n",
    "    for i, patient in enumerate(info):\n",
    "            patient_id = patient.split(\"_\")[2]\n",
    "            if patient_id not in loss_valid:\n",
    "                loss_valid.setdefault(patient_id, [])\n",
    "            loss = loss_func(y_pred[i], y_true[i])\n",
    "            loss_valid[patient_id].append(loss.detach().cpu().numpy())"
   ]
  },
  {
   "cell_type": "markdown",
   "metadata": {
    "id": "FEDKOBy6QPFe"
   },
   "source": [
    "Training"
   ]
  },
  {
   "cell_type": "code",
   "execution_count": null,
   "metadata": {
    "colab": {
     "base_uri": "https://localhost:8080/"
    },
    "id": "ANTyO3sUGOQa",
    "outputId": "35824146-3fe8-4639-bc3e-63e86e3aabb8"
   },
   "outputs": [
    {
     "name": "stdout",
     "output_type": "stream",
     "text": [
      "===== EPOCH 0 =====\n",
      "\n",
      "train_loss: 0.9796384572982788\n",
      "\n",
      "val_loss: 0.9637355804443359\n",
      "\n",
      "===== EPOCH 1 =====\n",
      "\n",
      "train_loss: 0.9113383293151855\n",
      "\n",
      "val_loss: 0.8740271329879761\n",
      "\n",
      "===== EPOCH 2 =====\n",
      "\n",
      "train_loss: 0.6388319134712219\n",
      "\n",
      "val_loss: 0.469165176153183\n",
      "\n",
      "===== EPOCH 3 =====\n",
      "\n",
      "train_loss: 0.32404452562332153\n",
      "\n",
      "val_loss: 0.22189116477966309\n",
      "\n",
      "===== EPOCH 4 =====\n",
      "\n",
      "train_loss: 0.1675325632095337\n",
      "\n",
      "val_loss: 0.12999805808067322\n",
      "\n",
      "===== EPOCH 5 =====\n",
      "\n",
      "train_loss: 0.09133300185203552\n",
      "\n",
      "val_loss: 0.08659173548221588\n",
      "\n",
      "===== EPOCH 6 =====\n",
      "\n",
      "train_loss: 0.068076953291893\n",
      "\n",
      "val_loss: 0.050123073160648346\n",
      "\n",
      "===== EPOCH 7 =====\n",
      "\n",
      "train_loss: 0.052259501069784164\n",
      "\n",
      "val_loss: 0.04008714109659195\n",
      "\n",
      "===== EPOCH 8 =====\n",
      "\n",
      "train_loss: 0.032081130892038345\n",
      "\n",
      "val_loss: 0.017300697043538094\n",
      "\n",
      "===== EPOCH 9 =====\n",
      "\n",
      "train_loss: 0.02926238253712654\n",
      "\n",
      "val_loss: 0.019746651872992516\n",
      "\n",
      "===== EPOCH 10 =====\n",
      "\n",
      "train_loss: 0.021285662427544594\n",
      "\n",
      "val_loss: 0.018855014815926552\n",
      "\n",
      "===== EPOCH 11 =====\n",
      "\n",
      "train_loss: 0.017092429101467133\n",
      "\n",
      "val_loss: 0.008808431215584278\n",
      "\n",
      "===== EPOCH 12 =====\n",
      "\n",
      "train_loss: 0.014640212059020996\n",
      "\n",
      "val_loss: 0.016592424362897873\n",
      "\n",
      "===== EPOCH 13 =====\n",
      "\n",
      "train_loss: 0.014162384904921055\n",
      "\n",
      "val_loss: 0.009655089117586613\n",
      "\n",
      "===== EPOCH 14 =====\n",
      "\n",
      "train_loss: 0.012905079871416092\n",
      "\n",
      "val_loss: 0.010173147544264793\n",
      "\n",
      "===== EPOCH 15 =====\n",
      "\n",
      "train_loss: 0.009759340435266495\n",
      "\n",
      "val_loss: 0.007226747926324606\n",
      "\n",
      "===== EPOCH 16 =====\n",
      "\n",
      "train_loss: 0.009156745858490467\n",
      "\n",
      "val_loss: 0.008380662649869919\n",
      "\n",
      "===== EPOCH 17 =====\n",
      "\n",
      "train_loss: 0.005943983793258667\n",
      "\n",
      "val_loss: 0.003456070553511381\n",
      "\n",
      "===== EPOCH 18 =====\n",
      "\n",
      "train_loss: 0.004398229066282511\n",
      "\n",
      "val_loss: 0.010553932748734951\n",
      "\n",
      "Best model: 17\n"
     ]
    },
    {
     "data": {
      "text/plain": [
       "<All keys matched successfully>"
      ]
     },
     "execution_count": 24,
     "metadata": {},
     "output_type": "execute_result"
    }
   ],
   "source": [
    "loss_train: dict[str, list[float]] = {}\n",
    "loss_valid: dict[str, list[float]] = {}\n",
    "history: dict[str, list[float | dict]] = {\"train\": [], \"valid\": [], \"model\": []}\n",
    "\n",
    "\n",
    "for epoch in range(HyperParameters.EPOCHS):\n",
    "    print(f\"===== EPOCH {epoch} =====\\n\")\n",
    "\n",
    "    # training\n",
    "    for i, data in enumerate(train_dl):\n",
    "\n",
    "        x, y_true, info = data\n",
    "        x, y_true = x.to(device), y_true.to(device)\n",
    "        net.train()\n",
    "        optimizer.zero_grad()\n",
    "\n",
    "        y_pred = net(x)\n",
    "\n",
    "        loss = loss_func(y_pred, y_true)\n",
    "\n",
    "        add_loss_by_patient(loss_train, info, loss_func, y_pred, y_true)\n",
    "        loss.backward()\n",
    "        optimizer.step()\n",
    "\n",
    "    # train loss\n",
    "    patient_loss = []\n",
    "    for patient in loss_train:\n",
    "        patient_loss.append(np.mean(loss_train[patient]))\n",
    "    log_summary(patient_loss, prefix=\"train_\")\n",
    "    history[\"train\"].append(np.mean(patient_loss))\n",
    "    loss_train = {}\n",
    "\n",
    "    # validation\n",
    "    for i, valid_data in enumerate(val_dl):\n",
    "        x, y_true, info = valid_data\n",
    "        x, y_true = x.to(device), y_true.to(device)\n",
    "\n",
    "        net.eval()\n",
    "        optimizer.zero_grad()\n",
    "\n",
    "        with torch.no_grad():\n",
    "            y_pred = net(x)\n",
    "\n",
    "        add_loss_by_patient(loss_valid, info, loss_func, y_pred, y_true)\n",
    "\n",
    "    # valid loss\n",
    "    patient_loss = []\n",
    "    for patient in loss_valid:\n",
    "        patient_loss.append(np.mean(loss_valid[patient]))\n",
    "    log_summary(patient_loss, prefix=\"val_\")\n",
    "    history[\"valid\"].append(np.mean(patient_loss))\n",
    "    history[\"model\"].append(net.state_dict())\n",
    "    loss_valid = {}\n",
    "\n",
    "    if (epoch > 3\n",
    "        and history[\"valid\"][-1] > history[\"valid\"][-2]\n",
    "        and history[\"valid\"][-1] > history[\"valid\"][-3]\n",
    "        and history[\"valid\"][-1] > history[\"valid\"][-4]):\n",
    "        break\n",
    "\n",
    "best_model = history[\"valid\"].index(min(history[\"valid\"]))\n",
    "print(f\"Best model: {best_model}\")\n",
    "net.load_state_dict(history[\"model\"][best_model])"
   ]
  },
  {
   "cell_type": "markdown",
   "metadata": {
    "id": "45n6XCG19Cjn"
   },
   "source": [
    "Plot training loss"
   ]
  },
  {
   "cell_type": "code",
   "execution_count": null,
   "metadata": {
    "colab": {
     "base_uri": "https://localhost:8080/",
     "height": 449
    },
    "id": "tdKfz8wx9B1X",
    "outputId": "29ee248a-10cd-4bdb-f425-58a009a35a29"
   },
   "outputs": [
    {
     "data": {
      "image/png": "[encoded data removed]",
      "text/plain": [
       "<Figure size 640x480 with 1 Axes>"
      ]
     },
     "metadata": {},
     "output_type": "display_data"
    }
   ],
   "source": [
    "import matplotlib.pyplot as plt\n",
    "x_label = [int(x) for x in range(1, len(history[\"train\"]) + 1)]\n",
    "plt.plot(x_label, history[\"train\"], label=\"train\")\n",
    "plt.plot(x_label, history[\"valid\"], label=\"validation\")\n",
    "plt.xlabel(\"epoch\")\n",
    "plt.ylabel(\"loss\")\n",
    "plt.legend()\n",
    "plt.show()"
   ]
  },
  {
   "cell_type": "markdown",
   "metadata": {
    "id": "zuK9vjeYC7rJ"
   },
   "source": [
    "Calculate the test loss from batch loss and sperately for every test patient."
   ]
  },
  {
   "cell_type": "code",
   "execution_count": null,
   "metadata": {
    "colab": {
     "base_uri": "https://localhost:8080/"
    },
    "id": "EC62r_yeR0nF",
    "outputId": "061da617-961b-4e1e-e686-ef368b55e7e2"
   },
   "outputs": [
    {
     "name": "stdout",
     "output_type": "stream",
     "text": [
      "One by one loss values: iou loss: 0.9892058372497559, dice loss: 0.010677799582481384\n",
      "batch by batch loss values: iou loss: -0.444134384393692, dice loss: 0.17310728132724762\n",
      "Patient 4941: iou loss: 0.9883145093917847, dice loss: 0.011548511683940887\n",
      "Patient 4942: iou loss: 0.9894507527351379, dice loss: 0.010438576340675354\n",
      "Patient 4943: iou loss: 0.9890650510787964, dice loss: 0.010816049762070179\n",
      "Patient 4944: iou loss: 0.9891619682312012, dice loss: 0.010721486993134022\n",
      "Patient 5393: iou loss: 0.9900371432304382, dice loss: 0.009864374995231628\n"
     ]
    }
   ],
   "source": [
    "dice_loss = DiceLoss()\n",
    "iou_loss = IoULoss()\n",
    "loss_dice = []\n",
    "loss_iou = []\n",
    "a = 0\n",
    "test_dice_loss = {}\n",
    "test_iou_loss = {}\n",
    "for i, data in enumerate(test_dl):\n",
    "  x, y_true, info = data\n",
    "  x, y_true = x.to(device), y_true.to(device)\n",
    "  with torch.no_grad():\n",
    "    y_pred = net(x)\n",
    "    loss_dice.append(dice_loss(y_pred, y_true).detach().cpu().numpy())\n",
    "    loss_iou.append(iou_loss(y_pred, y_true).detach().cpu().numpy())\n",
    "    add_loss_by_patient(test_dice_loss, info, dice_loss, y_pred, y_true)\n",
    "    add_loss_by_patient(test_iou_loss, info, iou_loss, y_pred, y_true)\n",
    "print(f\"One by one loss values: iou loss: {np.mean([np.mean(v) for k,v in test_iou_loss.items()])}, dice loss: {np.mean([np.mean(v) for k,v in test_dice_loss.items()])}\")\n",
    "print(f\"batch by batch loss values: iou loss: {np.mean(loss_iou)}, dice loss: {np.mean(loss_dice)}\")\n",
    "assert test_dice_loss.keys() == test_iou_loss.keys()\n",
    "for patient in test_dice_loss:\n",
    "    print(f\"Patient {patient}: iou loss: {np.mean(test_iou_loss[patient])}, dice loss: {np.mean(test_dice_loss[patient])}\")"
   ]
  },
  {
   "cell_type": "markdown",
   "metadata": {
    "id": "SjZK6OoYD_Vk"
   },
   "source": [
    "Find the best threshold value"
   ]
  },
  {
   "cell_type": "code",
   "execution_count": null,
   "metadata": {
    "colab": {
     "base_uri": "https://localhost:8080/",
     "height": 466
    },
    "id": "N7BajW4Xw3a3",
    "outputId": "73adb3db-2245-4de9-de95-2e51c96c848f"
   },
   "outputs": [
    {
     "data": {
      "image/png": "[encoded data removed]",
      "text/plain": [
       "<Figure size 640x480 with 1 Axes>"
      ]
     },
     "metadata": {},
     "output_type": "display_data"
    },
    {
     "name": "stdout",
     "output_type": "stream",
     "text": [
      "Min loss: 0.1301 at 0.31\n"
     ]
    }
   ],
   "source": [
    "import matplotlib.pyplot as plt\n",
    "import torch\n",
    "dice_loss = DiceLoss()\n",
    "iou_loss = IoULoss()\n",
    "losses = {\"th\": [], \"loss\": []}\n",
    "for th in np.arange(0.04, 0.98, 0.01):\n",
    "    loss_dice = []\n",
    "    loss_iou = []\n",
    "    test_dice_loss = {}\n",
    "    test_iou_loss = {}\n",
    "    for i, data in enumerate(test_dl):\n",
    "        x, y_true, info = data\n",
    "        x, y_true = x.to(device), y_true.to(device)\n",
    "        with torch.no_grad():\n",
    "            y_pred = net(x)\n",
    "            y_pred = (y_pred > th).float()\n",
    "            y_pred = torch.where(y_pred > 0.5, torch.tensor(1.0), torch.tensor(0.0))\n",
    "            loss_dice.append(dice_loss(y_pred, y_true).detach().cpu().numpy())\n",
    "            loss_iou.append(iou_loss(y_pred, y_true).detach().cpu().numpy())\n",
    "            add_loss_by_patient(test_dice_loss, info, dice_loss, y_pred, y_true)\n",
    "            add_loss_by_patient(test_iou_loss, info, iou_loss, y_pred, y_true)\n",
    "    losses[\"th\"].append(th)\n",
    "    losses[\"loss\"].append(np.mean(loss_dice))\n",
    "\n",
    "plt.figure()\n",
    "plt.plot(losses[\"th\"], losses[\"loss\"])\n",
    "plt.xlabel(\"threshold\")\n",
    "plt.ylabel(\"average DiceLoss\")\n",
    "plt.show()\n",
    "\n",
    "min_loss = min(losses[\"loss\"])\n",
    "print(f\"Min loss: {min_loss:.4f} at {losses['th'][losses['loss'].index(min_loss)]:.2f}\")\n"
   ]
  },
  {
   "cell_type": "markdown",
   "metadata": {
    "id": "QQRirk8-MCRe"
   },
   "source": [
    "Generate the segmentated data for each test patient."
   ]
  },
  {
   "cell_type": "code",
   "execution_count": null,
   "metadata": {
    "colab": {
     "base_uri": "https://localhost:8080/",
     "height": 507
    },
    "id": "jAm9KG5ES87L",
    "outputId": "74606e53-ed39-4938-d655-cacf1f84a75e"
   },
   "outputs": [
    {
     "name": "stderr",
     "output_type": "stream",
     "text": [
      "<ipython-input-7-c7cc3895bbae>:62: UserWarning: The use of `x.T` on tensors of dimension other than 2 to reverse their shape is deprecated and it will throw an error in a future release. Consider `x.mT` to transpose batches of matrices or `x.permute(*torch.arange(x.ndim - 1, -1, -1))` to reverse the dimensions of a tensor. (Triggered internally at ../aten/src/ATen/native/TensorShape.cpp:3683.)\n",
      "  brain_image = np.squeeze(image_ds[index][0]).T\n"
     ]
    },
    {
     "data": {
      "image/png": "[encoded data removed]",
      "text/plain": [
       "<Figure size 640x480 with 1 Axes>"
      ]
     },
     "metadata": {},
     "output_type": "display_data"
    }
   ],
   "source": [
    "import pathlib\n",
    "for i, data in enumerate(test_ds):\n",
    "    show_segmentation(test_ds, i, net, threshold=0.31)\n",
    "    n = data[2].split(\"_\")\n",
    "    folder = pathlib.Path(HyperParameters.WEIGHTS_PATH) / n[3]\n",
    "    folder.mkdir(exist_ok=True)\n",
    "    plt.savefig(folder / n[4], dpi=300, bbox_inches=\"tight\")"
   ]
  },
  {
   "cell_type": "markdown",
   "metadata": {
    "id": "y_0dQR15Dozi"
   },
   "source": [
    "Saving model to the path defined in the hyperparameters."
   ]
  },
  {
   "cell_type": "code",
   "execution_count": null,
   "metadata": {
    "id": "8I_qnCj4tjvx"
   },
   "outputs": [],
   "source": [
    "torch.save(net.state_dict(), HyperParameters.WEIGHTS_PATH / \"UNet.pt\")"
   ]
  }
 ],
 "metadata": {
  "accelerator": "GPU",
  "colab": {
   "gpuType": "T4",
   "provenance": []
  },
  "kernelspec": {
   "display_name": "Python 3",
   "name": "python3"
  },
  "language_info": {
   "name": "python"
  }
 },
 "nbformat": 4,
 "nbformat_minor": 0
}
