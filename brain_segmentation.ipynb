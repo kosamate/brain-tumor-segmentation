{
  "nbformat": 4,
  "nbformat_minor": 0,
  "metadata": {
    "colab": {
      "provenance": [],
      "gpuType": "T4",
      "mount_file_id": "1lnASGeeMh3Z6IgPKuTG6HsAmI5WA_Zn-",
      "authorship_tag": "ABX9TyM12Se5s9xNuTrel6sOv4OW",
      "include_colab_link": true
    },
    "kernelspec": {
      "name": "python3",
      "display_name": "Python 3"
    },
    "language_info": {
      "name": "python"
    },
    "accelerator": "GPU"
  },
  "cells": [
    {
      "cell_type": "markdown",
      "metadata": {
        "id": "view-in-github",
        "colab_type": "text"
      },
      "source": [
        "<a href=\"https://colab.research.google.com/github/kosamate/brain-tumor-segmentation/blob/separated-patients/brain_segmentation.ipynb\" target=\"_parent\"><img src=\"https://colab.research.google.com/assets/colab-badge.svg\" alt=\"Open In Colab\"/></a>"
      ]
    },
    {
      "cell_type": "markdown",
      "source": [
        "Set up kaggle creditentals."
      ],
      "metadata": {
        "id": "SG_ZMxBjplLX"
      }
    },
    {
      "cell_type": "code",
      "execution_count": null,
      "metadata": {
        "id": "-LbElYQDceys",
        "colab": {
          "base_uri": "https://localhost:8080/"
        },
        "outputId": "b79eccf1-7db6-49af-f5e5-f9d3f00de407"
      },
      "outputs": [
        {
          "output_type": "stream",
          "name": "stdout",
          "text": [
            "Looking in indexes: https://pypi.org/simple, https://download.pytorch.org/whl/cu121\n",
            "Requirement already satisfied: numpy~=1.26 in /usr/local/lib/python3.10/dist-packages (from -r /content/drive/MyDrive/brain/requirements.txt (line 1)) (1.26.4)\n",
            "Requirement already satisfied: pandas~=2.2 in /usr/local/lib/python3.10/dist-packages (from -r /content/drive/MyDrive/brain/requirements.txt (line 2)) (2.2.2)\n",
            "Requirement already satisfied: matplotlib~=3.7 in /usr/local/lib/python3.10/dist-packages (from -r /content/drive/MyDrive/brain/requirements.txt (line 3)) (3.8.0)\n",
            "Collecting torch==2.4.1+cu121 (from -r /content/drive/MyDrive/brain/requirements.txt (line 5))\n",
            "  Downloading https://download.pytorch.org/whl/cu121/torch-2.4.1%2Bcu121-cp310-cp310-linux_x86_64.whl (798.9 MB)\n",
            "\u001b[2K     \u001b[90m━━━━━━━━━━━━━━━━━━━━━━━━━━━━━━━━━━━━━━━━\u001b[0m \u001b[32m798.9/798.9 MB\u001b[0m \u001b[31m1.2 MB/s\u001b[0m eta \u001b[36m0:00:00\u001b[0m\n",
            "\u001b[?25hCollecting torchvision==0.19.1+cu121 (from -r /content/drive/MyDrive/brain/requirements.txt (line 6))\n",
            "  Downloading https://download.pytorch.org/whl/cu121/torchvision-0.19.1%2Bcu121-cp310-cp310-linux_x86_64.whl (7.1 MB)\n",
            "\u001b[2K     \u001b[90m━━━━━━━━━━━━━━━━━━━━━━━━━━━━━━━━━━━━━━━━\u001b[0m \u001b[32m7.1/7.1 MB\u001b[0m \u001b[31m48.8 MB/s\u001b[0m eta \u001b[36m0:00:00\u001b[0m\n",
            "\u001b[?25hRequirement already satisfied: filelock in /usr/local/lib/python3.10/dist-packages (from torch==2.4.1+cu121->-r /content/drive/MyDrive/brain/requirements.txt (line 5)) (3.16.1)\n",
            "Requirement already satisfied: typing-extensions>=4.8.0 in /usr/local/lib/python3.10/dist-packages (from torch==2.4.1+cu121->-r /content/drive/MyDrive/brain/requirements.txt (line 5)) (4.12.2)\n",
            "Requirement already satisfied: sympy in /usr/local/lib/python3.10/dist-packages (from torch==2.4.1+cu121->-r /content/drive/MyDrive/brain/requirements.txt (line 5)) (1.13.1)\n",
            "Requirement already satisfied: networkx in /usr/local/lib/python3.10/dist-packages (from torch==2.4.1+cu121->-r /content/drive/MyDrive/brain/requirements.txt (line 5)) (3.4.2)\n",
            "Requirement already satisfied: jinja2 in /usr/local/lib/python3.10/dist-packages (from torch==2.4.1+cu121->-r /content/drive/MyDrive/brain/requirements.txt (line 5)) (3.1.4)\n",
            "Requirement already satisfied: fsspec in /usr/local/lib/python3.10/dist-packages (from torch==2.4.1+cu121->-r /content/drive/MyDrive/brain/requirements.txt (line 5)) (2024.10.0)\n",
            "Collecting nvidia-cuda-nvrtc-cu12==12.1.105 (from torch==2.4.1+cu121->-r /content/drive/MyDrive/brain/requirements.txt (line 5))\n",
            "  Downloading https://download.pytorch.org/whl/cu121/nvidia_cuda_nvrtc_cu12-12.1.105-py3-none-manylinux1_x86_64.whl (23.7 MB)\n",
            "\u001b[2K     \u001b[90m━━━━━━━━━━━━━━━━━━━━━━━━━━━━━━━━━━━━━━━━\u001b[0m \u001b[32m23.7/23.7 MB\u001b[0m \u001b[31m49.9 MB/s\u001b[0m eta \u001b[36m0:00:00\u001b[0m\n",
            "\u001b[?25hCollecting nvidia-cuda-runtime-cu12==12.1.105 (from torch==2.4.1+cu121->-r /content/drive/MyDrive/brain/requirements.txt (line 5))\n",
            "  Downloading https://download.pytorch.org/whl/cu121/nvidia_cuda_runtime_cu12-12.1.105-py3-none-manylinux1_x86_64.whl (823 kB)\n",
            "\u001b[2K     \u001b[90m━━━━━━━━━━━━━━━━━━━━━━━━━━━━━━━━━━━━━━━━\u001b[0m \u001b[32m823.6/823.6 kB\u001b[0m \u001b[31m42.9 MB/s\u001b[0m eta \u001b[36m0:00:00\u001b[0m\n",
            "\u001b[?25hCollecting nvidia-cuda-cupti-cu12==12.1.105 (from torch==2.4.1+cu121->-r /content/drive/MyDrive/brain/requirements.txt (line 5))\n",
            "  Downloading https://download.pytorch.org/whl/cu121/nvidia_cuda_cupti_cu12-12.1.105-py3-none-manylinux1_x86_64.whl (14.1 MB)\n",
            "\u001b[2K     \u001b[90m━━━━━━━━━━━━━━━━━━━━━━━━━━━━━━━━━━━━━━━━\u001b[0m \u001b[32m14.1/14.1 MB\u001b[0m \u001b[31m82.0 MB/s\u001b[0m eta \u001b[36m0:00:00\u001b[0m\n",
            "\u001b[?25hCollecting nvidia-cudnn-cu12==9.1.0.70 (from torch==2.4.1+cu121->-r /content/drive/MyDrive/brain/requirements.txt (line 5))\n",
            "  Downloading https://download.pytorch.org/whl/cu121/nvidia_cudnn_cu12-9.1.0.70-py3-none-manylinux2014_x86_64.whl (664.8 MB)\n",
            "\u001b[2K     \u001b[90m━━━━━━━━━━━━━━━━━━━━━━━━━━━━━━━━━━━━━━━━\u001b[0m \u001b[32m664.8/664.8 MB\u001b[0m \u001b[31m2.8 MB/s\u001b[0m eta \u001b[36m0:00:00\u001b[0m\n",
            "\u001b[?25hCollecting nvidia-cublas-cu12==12.1.3.1 (from torch==2.4.1+cu121->-r /content/drive/MyDrive/brain/requirements.txt (line 5))\n",
            "  Downloading https://download.pytorch.org/whl/cu121/nvidia_cublas_cu12-12.1.3.1-py3-none-manylinux1_x86_64.whl (410.6 MB)\n",
            "\u001b[2K     \u001b[90m━━━━━━━━━━━━━━━━━━━━━━━━━━━━━━━━━━━━━━━━\u001b[0m \u001b[32m410.6/410.6 MB\u001b[0m \u001b[31m2.8 MB/s\u001b[0m eta \u001b[36m0:00:00\u001b[0m\n",
            "\u001b[?25hCollecting nvidia-cufft-cu12==11.0.2.54 (from torch==2.4.1+cu121->-r /content/drive/MyDrive/brain/requirements.txt (line 5))\n",
            "  Downloading https://download.pytorch.org/whl/cu121/nvidia_cufft_cu12-11.0.2.54-py3-none-manylinux1_x86_64.whl (121.6 MB)\n",
            "\u001b[2K     \u001b[90m━━━━━━━━━━━━━━━━━━━━━━━━━━━━━━━━━━━━━━━━\u001b[0m \u001b[32m121.6/121.6 MB\u001b[0m \u001b[31m7.2 MB/s\u001b[0m eta \u001b[36m0:00:00\u001b[0m\n",
            "\u001b[?25hCollecting nvidia-curand-cu12==10.3.2.106 (from torch==2.4.1+cu121->-r /content/drive/MyDrive/brain/requirements.txt (line 5))\n",
            "  Downloading https://download.pytorch.org/whl/cu121/nvidia_curand_cu12-10.3.2.106-py3-none-manylinux1_x86_64.whl (56.5 MB)\n",
            "\u001b[2K     \u001b[90m━━━━━━━━━━━━━━━━━━━━━━━━━━━━━━━━━━━━━━━━\u001b[0m \u001b[32m56.5/56.5 MB\u001b[0m \u001b[31m12.7 MB/s\u001b[0m eta \u001b[36m0:00:00\u001b[0m\n",
            "\u001b[?25hCollecting nvidia-cusolver-cu12==11.4.5.107 (from torch==2.4.1+cu121->-r /content/drive/MyDrive/brain/requirements.txt (line 5))\n",
            "  Downloading https://download.pytorch.org/whl/cu121/nvidia_cusolver_cu12-11.4.5.107-py3-none-manylinux1_x86_64.whl (124.2 MB)\n",
            "\u001b[2K     \u001b[90m━━━━━━━━━━━━━━━━━━━━━━━━━━━━━━━━━━━━━━━━\u001b[0m \u001b[32m124.2/124.2 MB\u001b[0m \u001b[31m7.2 MB/s\u001b[0m eta \u001b[36m0:00:00\u001b[0m\n",
            "\u001b[?25hCollecting nvidia-cusparse-cu12==12.1.0.106 (from torch==2.4.1+cu121->-r /content/drive/MyDrive/brain/requirements.txt (line 5))\n",
            "  Downloading https://download.pytorch.org/whl/cu121/nvidia_cusparse_cu12-12.1.0.106-py3-none-manylinux1_x86_64.whl (196.0 MB)\n",
            "\u001b[2K     \u001b[90m━━━━━━━━━━━━━━━━━━━━━━━━━━━━━━━━━━━━━━━━\u001b[0m \u001b[32m196.0/196.0 MB\u001b[0m \u001b[31m6.6 MB/s\u001b[0m eta \u001b[36m0:00:00\u001b[0m\n",
            "\u001b[?25hCollecting nvidia-nccl-cu12==2.20.5 (from torch==2.4.1+cu121->-r /content/drive/MyDrive/brain/requirements.txt (line 5))\n",
            "  Downloading https://download.pytorch.org/whl/cu121/nvidia_nccl_cu12-2.20.5-py3-none-manylinux2014_x86_64.whl (176.2 MB)\n",
            "\u001b[2K     \u001b[90m━━━━━━━━━━━━━━━━━━━━━━━━━━━━━━━━━━━━━━━━\u001b[0m \u001b[32m176.2/176.2 MB\u001b[0m \u001b[31m5.4 MB/s\u001b[0m eta \u001b[36m0:00:00\u001b[0m\n",
            "\u001b[?25hCollecting nvidia-nvtx-cu12==12.1.105 (from torch==2.4.1+cu121->-r /content/drive/MyDrive/brain/requirements.txt (line 5))\n",
            "  Downloading https://download.pytorch.org/whl/cu121/nvidia_nvtx_cu12-12.1.105-py3-none-manylinux1_x86_64.whl (99 kB)\n",
            "\u001b[2K     \u001b[90m━━━━━━━━━━━━━━━━━━━━━━━━━━━━━━━━━━━━━━━━\u001b[0m \u001b[32m99.1/99.1 kB\u001b[0m \u001b[31m7.4 MB/s\u001b[0m eta \u001b[36m0:00:00\u001b[0m\n",
            "\u001b[?25hCollecting triton==3.0.0 (from torch==2.4.1+cu121->-r /content/drive/MyDrive/brain/requirements.txt (line 5))\n",
            "  Downloading https://download.pytorch.org/whl/triton-3.0.0-1-cp310-cp310-manylinux2014_x86_64.manylinux_2_17_x86_64.whl (209.4 MB)\n",
            "\u001b[2K     \u001b[90m━━━━━━━━━━━━━━━━━━━━━━━━━━━━━━━━━━━━━━━━\u001b[0m \u001b[32m209.4/209.4 MB\u001b[0m \u001b[31m6.5 MB/s\u001b[0m eta \u001b[36m0:00:00\u001b[0m\n",
            "\u001b[?25hRequirement already satisfied: pillow!=8.3.*,>=5.3.0 in /usr/local/lib/python3.10/dist-packages (from torchvision==0.19.1+cu121->-r /content/drive/MyDrive/brain/requirements.txt (line 6)) (10.4.0)\n",
            "Requirement already satisfied: nvidia-nvjitlink-cu12 in /usr/local/lib/python3.10/dist-packages (from nvidia-cusolver-cu12==11.4.5.107->torch==2.4.1+cu121->-r /content/drive/MyDrive/brain/requirements.txt (line 5)) (12.6.77)\n",
            "Requirement already satisfied: python-dateutil>=2.8.2 in /usr/local/lib/python3.10/dist-packages (from pandas~=2.2->-r /content/drive/MyDrive/brain/requirements.txt (line 2)) (2.8.2)\n",
            "Requirement already satisfied: pytz>=2020.1 in /usr/local/lib/python3.10/dist-packages (from pandas~=2.2->-r /content/drive/MyDrive/brain/requirements.txt (line 2)) (2024.2)\n",
            "Requirement already satisfied: tzdata>=2022.7 in /usr/local/lib/python3.10/dist-packages (from pandas~=2.2->-r /content/drive/MyDrive/brain/requirements.txt (line 2)) (2024.2)\n",
            "Requirement already satisfied: contourpy>=1.0.1 in /usr/local/lib/python3.10/dist-packages (from matplotlib~=3.7->-r /content/drive/MyDrive/brain/requirements.txt (line 3)) (1.3.0)\n",
            "Requirement already satisfied: cycler>=0.10 in /usr/local/lib/python3.10/dist-packages (from matplotlib~=3.7->-r /content/drive/MyDrive/brain/requirements.txt (line 3)) (0.12.1)\n",
            "Requirement already satisfied: fonttools>=4.22.0 in /usr/local/lib/python3.10/dist-packages (from matplotlib~=3.7->-r /content/drive/MyDrive/brain/requirements.txt (line 3)) (4.54.1)\n",
            "Requirement already satisfied: kiwisolver>=1.0.1 in /usr/local/lib/python3.10/dist-packages (from matplotlib~=3.7->-r /content/drive/MyDrive/brain/requirements.txt (line 3)) (1.4.7)\n",
            "Requirement already satisfied: packaging>=20.0 in /usr/local/lib/python3.10/dist-packages (from matplotlib~=3.7->-r /content/drive/MyDrive/brain/requirements.txt (line 3)) (24.1)\n",
            "Requirement already satisfied: pyparsing>=2.3.1 in /usr/local/lib/python3.10/dist-packages (from matplotlib~=3.7->-r /content/drive/MyDrive/brain/requirements.txt (line 3)) (3.2.0)\n",
            "Requirement already satisfied: six>=1.5 in /usr/local/lib/python3.10/dist-packages (from python-dateutil>=2.8.2->pandas~=2.2->-r /content/drive/MyDrive/brain/requirements.txt (line 2)) (1.16.0)\n",
            "Requirement already satisfied: MarkupSafe>=2.0 in /usr/local/lib/python3.10/dist-packages (from jinja2->torch==2.4.1+cu121->-r /content/drive/MyDrive/brain/requirements.txt (line 5)) (3.0.2)\n",
            "Requirement already satisfied: mpmath<1.4,>=1.1.0 in /usr/local/lib/python3.10/dist-packages (from sympy->torch==2.4.1+cu121->-r /content/drive/MyDrive/brain/requirements.txt (line 5)) (1.3.0)\n",
            "Installing collected packages: triton, nvidia-nvtx-cu12, nvidia-nccl-cu12, nvidia-cusparse-cu12, nvidia-curand-cu12, nvidia-cufft-cu12, nvidia-cuda-runtime-cu12, nvidia-cuda-nvrtc-cu12, nvidia-cuda-cupti-cu12, nvidia-cublas-cu12, nvidia-cusolver-cu12, nvidia-cudnn-cu12, torch, torchvision\n",
            "  Attempting uninstall: nvidia-nccl-cu12\n",
            "    Found existing installation: nvidia-nccl-cu12 2.23.4\n",
            "    Uninstalling nvidia-nccl-cu12-2.23.4:\n",
            "      Successfully uninstalled nvidia-nccl-cu12-2.23.4\n",
            "  Attempting uninstall: nvidia-cusparse-cu12\n",
            "    Found existing installation: nvidia-cusparse-cu12 12.5.4.2\n",
            "    Uninstalling nvidia-cusparse-cu12-12.5.4.2:\n",
            "      Successfully uninstalled nvidia-cusparse-cu12-12.5.4.2\n",
            "  Attempting uninstall: nvidia-curand-cu12\n",
            "    Found existing installation: nvidia-curand-cu12 10.3.7.77\n",
            "    Uninstalling nvidia-curand-cu12-10.3.7.77:\n",
            "      Successfully uninstalled nvidia-curand-cu12-10.3.7.77\n",
            "  Attempting uninstall: nvidia-cufft-cu12\n",
            "    Found existing installation: nvidia-cufft-cu12 11.3.0.4\n",
            "    Uninstalling nvidia-cufft-cu12-11.3.0.4:\n",
            "      Successfully uninstalled nvidia-cufft-cu12-11.3.0.4\n",
            "  Attempting uninstall: nvidia-cuda-runtime-cu12\n",
            "    Found existing installation: nvidia-cuda-runtime-cu12 12.6.77\n",
            "    Uninstalling nvidia-cuda-runtime-cu12-12.6.77:\n",
            "      Successfully uninstalled nvidia-cuda-runtime-cu12-12.6.77\n",
            "  Attempting uninstall: nvidia-cuda-cupti-cu12\n",
            "    Found existing installation: nvidia-cuda-cupti-cu12 12.6.80\n",
            "    Uninstalling nvidia-cuda-cupti-cu12-12.6.80:\n",
            "      Successfully uninstalled nvidia-cuda-cupti-cu12-12.6.80\n",
            "  Attempting uninstall: nvidia-cublas-cu12\n",
            "    Found existing installation: nvidia-cublas-cu12 12.6.3.3\n",
            "    Uninstalling nvidia-cublas-cu12-12.6.3.3:\n",
            "      Successfully uninstalled nvidia-cublas-cu12-12.6.3.3\n",
            "  Attempting uninstall: nvidia-cusolver-cu12\n",
            "    Found existing installation: nvidia-cusolver-cu12 11.7.1.2\n",
            "    Uninstalling nvidia-cusolver-cu12-11.7.1.2:\n",
            "      Successfully uninstalled nvidia-cusolver-cu12-11.7.1.2\n",
            "  Attempting uninstall: nvidia-cudnn-cu12\n",
            "    Found existing installation: nvidia-cudnn-cu12 9.5.1.17\n",
            "    Uninstalling nvidia-cudnn-cu12-9.5.1.17:\n",
            "      Successfully uninstalled nvidia-cudnn-cu12-9.5.1.17\n",
            "  Attempting uninstall: torch\n",
            "    Found existing installation: torch 2.5.0+cu121\n",
            "    Uninstalling torch-2.5.0+cu121:\n",
            "      Successfully uninstalled torch-2.5.0+cu121\n",
            "  Attempting uninstall: torchvision\n",
            "    Found existing installation: torchvision 0.20.0+cu121\n",
            "    Uninstalling torchvision-0.20.0+cu121:\n",
            "      Successfully uninstalled torchvision-0.20.0+cu121\n",
            "\u001b[31mERROR: pip's dependency resolver does not currently take into account all the packages that are installed. This behaviour is the source of the following dependency conflicts.\n",
            "torchaudio 2.5.0+cu121 requires torch==2.5.0, but you have torch 2.4.1+cu121 which is incompatible.\u001b[0m\u001b[31m\n",
            "\u001b[0mSuccessfully installed nvidia-cublas-cu12-12.1.3.1 nvidia-cuda-cupti-cu12-12.1.105 nvidia-cuda-nvrtc-cu12-12.1.105 nvidia-cuda-runtime-cu12-12.1.105 nvidia-cudnn-cu12-9.1.0.70 nvidia-cufft-cu12-11.0.2.54 nvidia-curand-cu12-10.3.2.106 nvidia-cusolver-cu12-11.4.5.107 nvidia-cusparse-cu12-12.1.0.106 nvidia-nccl-cu12-2.20.5 nvidia-nvtx-cu12-12.1.105 torch-2.4.1+cu121 torchvision-0.19.1+cu121 triton-3.0.0\n"
          ]
        }
      ],
      "source": [
        "import os\n",
        "import pathlib\n",
        "\n",
        "DRIVE_PATH = pathlib.Path(\"/content/drive/MyDrive/brain\")\n",
        "!pip install -r \"requirements.txt\"\n",
        "os.environ['KAGGLE_USERNAME'] = \"\" # add your username\n",
        "os.environ['KAGGLE_KEY'] = \"\" # add your kaggle key"
      ]
    },
    {
      "cell_type": "code",
      "source": [
        "!python -V"
      ],
      "metadata": {
        "colab": {
          "base_uri": "https://localhost:8080/"
        },
        "id": "tDV_rfoPLVsI",
        "outputId": "9baf53b6-5c3a-4667-8492-33657d87f05c"
      },
      "execution_count": null,
      "outputs": [
        {
          "output_type": "stream",
          "name": "stdout",
          "text": [
            "Python 3.10.12\n"
          ]
        }
      ]
    },
    {
      "cell_type": "markdown",
      "source": [
        "Downlaod the content of dataset"
      ],
      "metadata": {
        "id": "nfjPTSKIptWk"
      }
    },
    {
      "cell_type": "code",
      "source": [
        "import kaggle\n",
        "\n",
        "kaggle.api.authenticate()\n",
        "\n",
        "kaggle.api.dataset_download_files('mateuszbuda/lgg-mri-segmentation', path='/content/data', unzip=True, quiet=True)"
      ],
      "metadata": {
        "colab": {
          "base_uri": "https://localhost:8080/"
        },
        "id": "fPl281h-pr83",
        "outputId": "0cac7a70-fe61-40a5-c316-d6aff45d4269"
      },
      "execution_count": null,
      "outputs": [
        {
          "output_type": "stream",
          "name": "stdout",
          "text": [
            "Dataset URL: https://www.kaggle.com/datasets/mateuszbuda/lgg-mri-segmentation\n"
          ]
        }
      ]
    },
    {
      "cell_type": "markdown",
      "source": [
        "Split the files to 3 different folder.\n",
        "\n",
        "Distribution:\n",
        "*   Test: 5 patients\n",
        "*   Validation: 10 patients\n",
        "*   Training: 95 patients\n",
        "\n",
        "\n",
        "\n"
      ],
      "metadata": {
        "id": "E6BvggNxRf7z"
      }
    },
    {
      "cell_type": "code",
      "source": [
        "import pathlib\n",
        "file_names = sorted(pathlib.Path(\"/content/data/kaggle_3m\").glob(\"TCGA*\"))\n",
        "train_path = pathlib.Path(\"/content/data/train\")\n",
        "val_path = pathlib.Path(\"/content/data/val\")\n",
        "test_path = pathlib.Path(\"/content/data/test\")\n",
        "train_path.mkdir(exist_ok=True)\n",
        "val_path.mkdir(exist_ok=True)\n",
        "test_path.mkdir(exist_ok=True)\n",
        "\n",
        "for patient in file_names[0:5]:\n",
        "    patient.rename(test_path / patient.name)\n",
        "for patient in file_names[5:15]:\n",
        "    patient.rename(val_path / patient.name)\n",
        "for patient in file_names[15:-1]:\n",
        "    patient.rename(train_path / patient.name)\n"
      ],
      "metadata": {
        "id": "MnBcX1H6PfZL"
      },
      "execution_count": null,
      "outputs": []
    },
    {
      "cell_type": "markdown",
      "source": [
        "Define the hyperparameters for the whole training process."
      ],
      "metadata": {
        "id": "jrnmJZVORYK7"
      }
    },
    {
      "cell_type": "code",
      "source": [
        "import pathlib\n",
        "import torch\n",
        "class HyperParameters():\n",
        "  BATCH_SIZE = 16\n",
        "  IMAGE_SIZE = 256\n",
        "  EPOCHS = 15\n",
        "  LEARNING_RATE = 0.0002\n",
        "  WEIGHTS_PATH = DRIVE_PATH\n",
        "\n",
        "device = torch.device(\"cuda:0\" if torch.cuda.is_available() else \"cpu\")\n",
        "print(f\"device: {device}\")\n"
      ],
      "metadata": {
        "id": "HlyKEQH2LsNm",
        "colab": {
          "base_uri": "https://localhost:8080/"
        },
        "outputId": "0fa3884d-5100-477c-f1b3-f0b7dcedd027"
      },
      "execution_count": null,
      "outputs": [
        {
          "output_type": "stream",
          "name": "stdout",
          "text": [
            "device: cuda:0\n"
          ]
        }
      ]
    },
    {
      "cell_type": "markdown",
      "source": [
        "Define the transformation."
      ],
      "metadata": {
        "id": "UPQLJQ2QQ9zg"
      }
    },
    {
      "cell_type": "code",
      "source": [
        "from torchvision.transforms import v2\n",
        "import torch\n",
        "\n",
        "transform = v2.Compose([\n",
        "    v2.ToTensor(),\n",
        "    v2.Resize((256, 256)),\n",
        "])\n",
        "# TODO: Augemntation may be needed"
      ],
      "metadata": {
        "id": "fzTps7RKqlNm",
        "colab": {
          "base_uri": "https://localhost:8080/"
        },
        "outputId": "228c7ab7-983f-4927-f64c-4172fb053989"
      },
      "execution_count": null,
      "outputs": [
        {
          "output_type": "stream",
          "name": "stderr",
          "text": [
            "/usr/local/lib/python3.10/dist-packages/torchvision/transforms/v2/_deprecated.py:42: UserWarning: The transform `ToTensor()` is deprecated and will be removed in a future release. Instead, please use `v2.Compose([v2.ToImage(), v2.ToDtype(torch.float32, scale=True)])`.Output is equivalent up to float precision.\n",
            "  warnings.warn(\n"
          ]
        }
      ]
    },
    {
      "cell_type": "markdown",
      "source": [
        "Define a dataset and create separated dataset for each phase of learning."
      ],
      "metadata": {
        "id": "_t0MxRABQyUT"
      }
    },
    {
      "cell_type": "code",
      "source": [
        "from typing import NamedTuple\n",
        "from torch.utils.data import Dataset\n",
        "import pathlib\n",
        "import skimage.io\n",
        "import numpy as np\n",
        "from torchvision.transforms import v2\n",
        "\n",
        "class SliceInfo(NamedTuple):\n",
        "  image: pathlib.Path\n",
        "  mask: pathlib.Path\n",
        "\n",
        "class BrainImageDataset(Dataset):\n",
        "  def __init__(self, path: pathlib.Path, transfrom: v2.Transform) -> None:\n",
        "    self._slices: list[SliceInfo] = []\n",
        "    self._transform = transform\n",
        "\n",
        "    for patient_dir in path.glob(\"TCGA*\"):\n",
        "      for mask_image in patient_dir.glob(\"*_mask.tif\"):\n",
        "        image_path = pathlib.Path(mask_image.as_posix().replace(\"_mask\",\"\"))\n",
        "        slice_info = SliceInfo(image_path, mask_image)\n",
        "        self._slices.append(slice_info)\n",
        "    self._slices.sort(key=lambda i: i.image.name)\n",
        "\n",
        "  def __getitem__(self, index) -> tuple:\n",
        "    image_path, mask_path = self._slices[index]\n",
        "    image = skimage.io.imread(image_path)\n",
        "    mask = skimage.io.imread(mask_path, as_gray=True)\n",
        "\n",
        "    image = np.array(image)\n",
        "    mask = np.array(mask)\n",
        "    info = image_path.name.split(\"/\")[-1]\n",
        "\n",
        "    image, mask = self._transform(image, mask)\n",
        "    mask = mask[0,:,:].view((1, 256, 256))\n",
        "    return image, mask, info\n",
        "\n",
        "  def __len__(self) -> int:\n",
        "    return len(self._slices)\n",
        "\n",
        "train_ds = BrainImageDataset(pathlib.Path(\"/content/data/train\"), transform)\n",
        "val_ds = BrainImageDataset(pathlib.Path(\"/content/data/val\"), transform)\n",
        "test_ds = BrainImageDataset(pathlib.Path(\"/content/data/test\"), transform)\n",
        "print(f\"data splitting:\\ntrain\\t{len(train_ds)}\\nval\\t{len(val_ds)}\\ntest\\t{len(test_ds)}\")"
      ],
      "metadata": {
        "id": "VJa5ZUbmQ-UG",
        "colab": {
          "base_uri": "https://localhost:8080/"
        },
        "outputId": "949a5411-eda8-4b5f-f8ad-5d5254991fb0"
      },
      "execution_count": null,
      "outputs": [
        {
          "output_type": "stream",
          "name": "stdout",
          "text": [
            "data splitting:\n",
            "train\t3505\n",
            "val\t233\n",
            "test\t103\n"
          ]
        }
      ]
    },
    {
      "cell_type": "markdown",
      "source": [
        "Helper functions to visualize the data and the result."
      ],
      "metadata": {
        "id": "30P7apMTQp8p"
      }
    },
    {
      "cell_type": "code",
      "source": [
        "from operator import imod\n",
        "import matplotlib.pyplot as plt\n",
        "import matplotlib.patches\n",
        "import torch\n",
        "import torch.nn as nn\n",
        "\n",
        "def show_image(image_ds: BrainImageDataset, index: int) -> None:\n",
        "    plt.imshow(np.squeeze(image_ds[index][0]).T)\n",
        "    plt.title(image_ds[index][2])\n",
        "\n",
        "def show_mask(image_ds: BrainImageDataset, index: int) -> None:\n",
        "    plt.imshow(np.squeeze(image_ds[index][1]).T, cmap=\"gray\")\n",
        "    plt.title(image_ds[index][2])\n",
        "\n",
        "def show_prediction(image_ds: BrainImageDataset,\n",
        "                    index: int,\n",
        "                    net: nn.Module,\n",
        "                    threshold=0.8) -> None:\n",
        "    fig, ax = plt.subplots(2, 2)\n",
        "\n",
        "    ax[0, 0].imshow(np.squeeze(image_ds[index][0]).T)\n",
        "    ax[0, 0].set_title(image_ds[index][2])\n",
        "    _remove_ticklabels(ax[0, 0])\n",
        "\n",
        "    true = np.squeeze(image_ds[index][1]).T\n",
        "    ax[0, 1].imshow(true, cmap=\"gray\")\n",
        "    ax[0, 1].set_title(\"ground truth\")\n",
        "    _remove_ticklabels(ax[0, 1])\n",
        "\n",
        "    x = image_ds[index][0].view((1,3,256,256)).to(device)\n",
        "    with torch.no_grad():\n",
        "        preds = net(x)\n",
        "    prediction = preds.detach().cpu().numpy()\n",
        "    prediction = np.squeeze(prediction[0]).T\n",
        "    ax[1, 0].imshow(prediction, cmap=\"gray\")\n",
        "    ax[1, 0].set_title(\"prediction\")\n",
        "    _remove_ticklabels(ax[1, 0])\n",
        "\n",
        "    empty_image_rgb = np.zeros((256, 256, 3), dtype=np.uint8)\n",
        "    for i in range(0, 256):\n",
        "      for j in range(0, 256):\n",
        "        if true[i, j] > 0.5:\n",
        "          empty_image_rgb[i, j, 0] = 255\n",
        "        if prediction[i, j] > threshold:\n",
        "          empty_image_rgb[i, j, 1] = 255\n",
        "\n",
        "\n",
        "    ax[1, 1].imshow(empty_image_rgb)\n",
        "    ax[1, 1].set_title(\"prediction overlay\")\n",
        "    ax[1, 1].text(-120, 20, \"ground truth\", color=\"red\", fontsize=8)\n",
        "    ax[1, 1].text(-120, 35, \"prediction\", color=\"green\", fontsize=8)\n",
        "    ax[1, 1].text(-120, 50, \"overlay\", color=\"yellow\", fontsize=8)\n",
        "    _remove_ticklabels(ax[1, 1])\n",
        "\n",
        "def show_segmentation(\n",
        "    image_ds: BrainImageDataset,\n",
        "    index: int,\n",
        "    net: nn.Module,\n",
        "    threshold=0.8\n",
        "):\n",
        "    image_rgb = np.zeros((256, 256, 3), dtype=np.uint8)\n",
        "    brain_image = np.squeeze(image_ds[index][0]).T\n",
        "    brain_mask = np.squeeze(image_ds[index][1]).T\n",
        "    input = image_ds[index][0].view((1,3,256,256)).to(device)\n",
        "    with torch.no_grad():\n",
        "        preds = net(input)\n",
        "    prediction = preds.detach().cpu().numpy()\n",
        "    prediction = np.squeeze(prediction[0]).T\n",
        "    image_rgb[:, :, 0] = brain_image[:, :, 1] * 255\n",
        "    image_rgb[:, :, 1] = brain_image[:, :, 1] * 255\n",
        "    image_rgb[:, :, 2] = brain_image[:, :, 1] * 255\n",
        "\n",
        "    for i in range(0, 256):\n",
        "        for j in range(0, 256):\n",
        "            _draw_outline(brain_mask, image_rgb, i, j, color=\"red\")\n",
        "            _draw_outline(prediction, image_rgb, i, j, color=\"green\", th=threshold)\n",
        "\n",
        "    im = plt.imshow(image_rgb)\n",
        "\n",
        "    plt.title(image_ds[index][2])\n",
        "    colors = [\"red\", \"green\", \"yellow\"]\n",
        "    values = [\"mask\", \"prediction\", \"perfect fit\"]\n",
        "    patches = [ matplotlib.patches.Patch(color=colors[i], label=values[i]) for i in range(len(values)) ]\n",
        "    plt.legend(handles=patches, bbox_to_anchor=(1.05, 1), loc=2, borderaxespad=0. )\n",
        "\n",
        "\n",
        "def _remove_ticklabels(ax) -> None:\n",
        "    ax.set_yticklabels([])\n",
        "    ax.set_xticklabels([])\n",
        "\n",
        "def _draw_outline(mask, output, i ,j, color, th=0.5):\n",
        "    channel = 0\n",
        "    if color == \"green\":\n",
        "        channel = 1\n",
        "    if color == \"blue\":\n",
        "        channel = 2\n",
        "    if mask[i, j] > th:\n",
        "        if i == 0 or j == 0 or i == 255 or j == 255:\n",
        "            output[i, j, channel] = 255\n",
        "        elif (mask[i-1, j] < th or mask[i+1, j] < th or\n",
        "              mask[i, j-1] < th or mask[i, j+1] < th):\n",
        "            output[i, j, channel] = 255\n"
      ],
      "metadata": {
        "id": "aJXX6PblSQfD"
      },
      "execution_count": null,
      "outputs": []
    },
    {
      "cell_type": "code",
      "source": [
        "show_prediction(test_ds, 108, net, threshold=0.9)"
      ],
      "metadata": {
        "colab": {
          "base_uri": "https://localhost:8080/",
          "height": 141
        },
        "id": "i20YZunBhia_",
        "outputId": "cdba141b-cda2-42ec-f751-fbdfb0155706"
      },
      "execution_count": null,
      "outputs": [
        {
          "output_type": "error",
          "ename": "NameError",
          "evalue": "name 'net' is not defined",
          "traceback": [
            "\u001b[0;31m---------------------------------------------------------------------------\u001b[0m",
            "\u001b[0;31mNameError\u001b[0m                                 Traceback (most recent call last)",
            "\u001b[0;32m<ipython-input-9-88ba4fb9ccbe>\u001b[0m in \u001b[0;36m<cell line: 1>\u001b[0;34m()\u001b[0m\n\u001b[0;32m----> 1\u001b[0;31m \u001b[0mshow_prediction\u001b[0m\u001b[0;34m(\u001b[0m\u001b[0mtest_ds\u001b[0m\u001b[0;34m,\u001b[0m \u001b[0;36m108\u001b[0m\u001b[0;34m,\u001b[0m \u001b[0mnet\u001b[0m\u001b[0;34m,\u001b[0m \u001b[0mthreshold\u001b[0m\u001b[0;34m=\u001b[0m\u001b[0;36m0.9\u001b[0m\u001b[0;34m)\u001b[0m\u001b[0;34m\u001b[0m\u001b[0;34m\u001b[0m\u001b[0m\n\u001b[0m",
            "\u001b[0;31mNameError\u001b[0m: name 'net' is not defined"
          ]
        }
      ]
    },
    {
      "cell_type": "code",
      "source": [
        "show_mask(train_ds, 108)"
      ],
      "metadata": {
        "colab": {
          "base_uri": "https://localhost:8080/",
          "height": 452
        },
        "id": "Ca7w3CxioSOb",
        "outputId": "abdf3d38-3349-41c6-c571-b26231d16682"
      },
      "execution_count": null,
      "outputs": [
        {
          "output_type": "display_data",
          "data": {
            "text/plain": [
              "<Figure size 640x480 with 1 Axes>"
            ],
            "image/png": "[encoded data removed]"
          },
          "metadata": {}
        }
      ]
    },
    {
      "cell_type": "markdown",
      "source": [
        "Dataloaders"
      ],
      "metadata": {
        "id": "s3qanwqiQlVF"
      }
    },
    {
      "cell_type": "code",
      "source": [
        "import torch\n",
        "from torch.utils.data import DataLoader\n",
        "\n",
        "train_dl = DataLoader(dataset=train_ds, batch_size=HyperParameters.BATCH_SIZE, shuffle=True)\n",
        "\n",
        "test_dl = DataLoader(dataset=test_ds, batch_size=HyperParameters.BATCH_SIZE, shuffle=False)\n",
        "\n",
        "val_dl = DataLoader(dataset=val_ds, batch_size=HyperParameters.BATCH_SIZE, shuffle=False)"
      ],
      "metadata": {
        "id": "t8bwXvKmVU5e"
      },
      "execution_count": null,
      "outputs": []
    },
    {
      "cell_type": "markdown",
      "source": [
        "Define a model for the image segmentation."
      ],
      "metadata": {
        "id": "jbSdxL_oscG3"
      }
    },
    {
      "cell_type": "code",
      "source": [
        "import collections\n",
        "import torch\n",
        "import torch.nn as nn\n",
        "\n",
        "class BrainSegmentationModel(nn.Module):\n",
        "  def __init__(self) -> None:\n",
        "    super().__init__()\n",
        "    features = 32\n",
        "    self.encoder1 = BrainSegmentationModel._block(3, features, name=\"enc1\")\n",
        "    self.pool1 = nn.MaxPool2d(kernel_size=2, stride=2)\n",
        "    self.encoder2 = BrainSegmentationModel._block(features, features * 2, name=\"enc2\")\n",
        "    self.pool2 = nn.MaxPool2d(kernel_size=2, stride=2)\n",
        "    self.encoder3 = BrainSegmentationModel._block(features * 2, features * 4, name=\"enc3\")\n",
        "    self.pool3 = nn.MaxPool2d(kernel_size=2, stride=2)\n",
        "    self.encoder4 = BrainSegmentationModel._block(features * 4, features * 8, name=\"enc4\")\n",
        "    self.pool4 = nn.MaxPool2d(kernel_size=2, stride=2)\n",
        "\n",
        "    self.bottleneck = BrainSegmentationModel._block(features * 8, features * 16, name=\"bottleneck\")\n",
        "\n",
        "    self.upconv4 = nn.ConvTranspose2d(\n",
        "        features * 16, features * 8, kernel_size=2, stride=2\n",
        "    )\n",
        "    self.decoder4 = BrainSegmentationModel._block((features * 8) * 2, features * 8, name=\"dec4\")\n",
        "    self.upconv3 = nn.ConvTranspose2d(\n",
        "        features * 8, features * 4, kernel_size=2, stride=2\n",
        "    )\n",
        "    self.decoder3 = BrainSegmentationModel._block((features * 4) * 2, features * 4, name=\"dec3\")\n",
        "    self.upconv2 = nn.ConvTranspose2d(\n",
        "        features * 4, features * 2, kernel_size=2, stride=2\n",
        "    )\n",
        "    self.decoder2 = BrainSegmentationModel._block((features * 2) * 2, features * 2, name=\"dec2\")\n",
        "    self.upconv1 = nn.ConvTranspose2d(\n",
        "        features * 2, features, kernel_size=2, stride=2\n",
        "    )\n",
        "    self.decoder1 = BrainSegmentationModel._block(features * 2, features, name=\"dec1\")\n",
        "\n",
        "    self.conv = nn.Conv2d(\n",
        "        in_channels=features, out_channels=1, kernel_size=1\n",
        "    )\n",
        "\n",
        "  def forward(self, x):\n",
        "      enc1 = self.encoder1(x)\n",
        "      enc2 = self.encoder2(self.pool1(enc1))\n",
        "      enc3 = self.encoder3(self.pool2(enc2))\n",
        "      enc4 = self.encoder4(self.pool3(enc3))\n",
        "\n",
        "      bottleneck = self.bottleneck(self.pool4(enc4))\n",
        "\n",
        "      dec4 = self.upconv4(bottleneck)\n",
        "      dec4 = torch.cat((dec4, enc4), dim=1)\n",
        "      dec4 = self.decoder4(dec4)\n",
        "      dec3 = self.upconv3(dec4)\n",
        "      dec3 = torch.cat((dec3, enc3), dim=1)\n",
        "      dec3 = self.decoder3(dec3)\n",
        "      dec2 = self.upconv2(dec3)\n",
        "      dec2 = torch.cat((dec2, enc2), dim=1)\n",
        "      dec2 = self.decoder2(dec2)\n",
        "      dec1 = self.upconv1(dec2)\n",
        "      dec1 = torch.cat((dec1, enc1), dim=1)\n",
        "      dec1 = self.decoder1(dec1)\n",
        "      return torch.sigmoid(self.conv(dec1))\n",
        "\n",
        "  @staticmethod\n",
        "  def _block(in_channels, features, name):\n",
        "      return nn.Sequential(\n",
        "          collections.OrderedDict(\n",
        "              [\n",
        "                  (\n",
        "                      name + \"conv1\",\n",
        "                      nn.Conv2d(\n",
        "                          in_channels=in_channels,\n",
        "                          out_channels=features,\n",
        "                          kernel_size=3,\n",
        "                          padding=1,\n",
        "                          bias=False,\n",
        "                      ),\n",
        "                  ),\n",
        "                  (name + \"norm1\", nn.BatchNorm2d(num_features=features)),\n",
        "                  (name + \"relu1\", nn.ReLU(inplace=True)),\n",
        "                  (\n",
        "                      name + \"conv2\",\n",
        "                      nn.Conv2d(\n",
        "                          in_channels=features,\n",
        "                          out_channels=features,\n",
        "                          kernel_size=3,\n",
        "                          padding=1,\n",
        "                          bias=False,\n",
        "                      ),\n",
        "                  ),\n",
        "                  (name + \"norm2\", nn.BatchNorm2d(num_features=features)),\n",
        "                  (name + \"relu2\", nn.ReLU(inplace=True)),\n",
        "              ]\n",
        "          )\n",
        "      )"
      ],
      "metadata": {
        "id": "_yNpwNs5qV0B"
      },
      "execution_count": null,
      "outputs": []
    },
    {
      "cell_type": "markdown",
      "source": [
        "Load a previously saved model (Optional)"
      ],
      "metadata": {
        "id": "B0_jz7zFKYuD"
      }
    },
    {
      "cell_type": "code",
      "source": [
        "import torch\n",
        "net = BrainSegmentationModel()\n",
        "if device == \"cuda:0\":\n",
        "    net.load_state_dict(torch.load(HyperParameters.WEIGHTS_PATH / \"separated1UNet.pt\", weights_only=True))\n",
        "else:\n",
        "    net.load_state_dict(torch.load(HyperParameters.WEIGHTS_PATH / \"separated1UNet.pt\", map_location=torch.device('cpu'), weights_only=True))\n",
        "net.to(device)\n",
        "print(\"Model loaded\")"
      ],
      "metadata": {
        "colab": {
          "base_uri": "https://localhost:8080/"
        },
        "id": "QEQAXi7LEBaH",
        "outputId": "1d90ad45-32a4-4a19-8455-d2bd962f574c"
      },
      "execution_count": null,
      "outputs": [
        {
          "output_type": "stream",
          "name": "stdout",
          "text": [
            "Model loaded\n"
          ]
        }
      ]
    },
    {
      "cell_type": "markdown",
      "source": [
        "Define lossses for the segmentation."
      ],
      "metadata": {
        "id": "Jj07XW6AQP7I"
      }
    },
    {
      "cell_type": "code",
      "source": [
        "import torch.nn as nn\n",
        "\n",
        "class DiceLoss(nn.Module):\n",
        "    def __init__(self):\n",
        "        super().__init__()\n",
        "        self.smooth = 1.0\n",
        "\n",
        "    def forward(self, y_pred, y_true):\n",
        "        assert y_pred.size() == y_true.size(), f\"pred: {y_pred.size()}, true: {y_true.size()}\"\n",
        "        y_pred = y_pred[:, 0].contiguous().view(-1)\n",
        "        y_true = y_true[:, 0].contiguous().view(-1)\n",
        "        intersection = (y_pred * y_true).sum()\n",
        "        dsc = (2.0 * intersection + self.smooth) / (y_pred.sum() + y_true.sum() + self.smooth)\n",
        "        return 1.0 - dsc\n",
        "\n",
        "class IoULoss(nn.Module):\n",
        "    def __init__(self):\n",
        "        super().__init__()\n",
        "        self.smooth = 1.0\n",
        "\n",
        "    def forward(self, y_pred, y_true):\n",
        "        assert y_pred.size() == y_true.size()\n",
        "        y_pred = y_pred[:, 0].contiguous().view(-1)\n",
        "        y_true = y_true[:, 0].contiguous().view(-1)\n",
        "        iou = ((y_pred * y_true).sum() + self.smooth) / (y_pred + y_true).sum()\n",
        "        return 1.0 - iou"
      ],
      "metadata": {
        "id": "ihAYTV1PcNXJ"
      },
      "execution_count": null,
      "outputs": []
    },
    {
      "cell_type": "markdown",
      "source": [
        "Initialize the network, loss and optimizer."
      ],
      "metadata": {
        "id": "iA2YJLdSSCRG"
      }
    },
    {
      "cell_type": "code",
      "source": [
        "import torch\n",
        "\n",
        "net = BrainSegmentationModel()\n",
        "net.to(device)\n",
        "\n",
        "loss_func = DiceLoss()\n",
        "loss_func.to(device)\n",
        "\n",
        "optimizer = torch.optim.Adam(net.parameters(), lr=HyperParameters.LEARNING_RATE)"
      ],
      "metadata": {
        "id": "NvrCAfQ7SNPz"
      },
      "execution_count": null,
      "outputs": []
    },
    {
      "cell_type": "markdown",
      "source": [
        "Training"
      ],
      "metadata": {
        "id": "FEDKOBy6QPFe"
      }
    },
    {
      "cell_type": "code",
      "source": [
        "def log_summary(loss_list: list[float], prefix=\"\"):\n",
        "    print(f\"{prefix}loss: {np.mean(loss_list)}\\n\")\n",
        "\n",
        "def add_loss_by_patient(loss_valid: dict[str, list[float]], info: list[str], loss_func: nn.Module):\n",
        "    for i, patient in enumerate(info):\n",
        "            patient_id = patient.split(\"_\")[2]\n",
        "            if patient_id not in loss_valid:\n",
        "                loss_valid.setdefault(patient_id, [])\n",
        "            loss = loss_func(y_pred[i], y_true[i])\n",
        "            loss_valid[patient_id].append(loss.detach().cpu().numpy())\n",
        "\n",
        "loaders = {\"train\": train_dl, \"valid\": val_dl}\n",
        "loss_train: dict[str, list[float]] = {}\n",
        "loss_valid: dict[str, list[float]] = {}\n",
        "history: dict[str, list[float]] = {\"train\": [], \"valid\": []}\n",
        "\n",
        "step = 0\n",
        "best_validation_dsc = 0\n",
        "\n",
        "for epoch in range(HyperParameters.EPOCHS):\n",
        "    print(f\"===== EPOCH {epoch} =====\\n\")\n",
        "\n",
        "    step += 1\n",
        "    # training\n",
        "    for i, data in enumerate(loaders[\"train\"]):\n",
        "\n",
        "        x, y_true, info = data\n",
        "        x, y_true = x.to(device), y_true.to(device)\n",
        "        net.train()\n",
        "        optimizer.zero_grad()\n",
        "\n",
        "        y_pred = net(x)\n",
        "\n",
        "        loss = loss_func(y_pred, y_true)\n",
        "\n",
        "        add_loss_by_patient(loss_train, info, loss_func)\n",
        "        loss.backward()\n",
        "        optimizer.step()\n",
        "\n",
        "    # train loss\n",
        "    patient_loss = []\n",
        "    for patient in loss_train:\n",
        "        patient_loss.append(np.mean(loss_train[patient]))\n",
        "    log_summary(patient_loss, prefix=\"train_\")\n",
        "    history[\"train\"].append(np.mean(patient_loss))\n",
        "    loss_train = {}\n",
        "\n",
        "    # validation\n",
        "    for i, valid_data in enumerate(loaders[\"valid\"]):\n",
        "        x, y_true, info = valid_data\n",
        "        x, y_true = x.to(device), y_true.to(device)\n",
        "\n",
        "        net.eval()\n",
        "        optimizer.zero_grad()\n",
        "\n",
        "        with torch.no_grad():\n",
        "            y_pred = net(x)\n",
        "\n",
        "        add_loss_by_patient(loss_valid, info, loss_func)\n",
        "\n",
        "    # valid loss\n",
        "    patient_loss = []\n",
        "    for patient in loss_valid:\n",
        "        patient_loss.append(np.mean(loss_valid[patient]))\n",
        "    log_summary(patient_loss, prefix=\"val_\")\n",
        "    history[\"valid\"].append(np.mean(patient_loss))\n",
        "    loss_valid = {}\n",
        "\n",
        "print(\"Best validation mean DSC: {:4f}\".format(best_validation_dsc))"
      ],
      "metadata": {
        "id": "ANTyO3sUGOQa",
        "colab": {
          "base_uri": "https://localhost:8080/"
        },
        "outputId": "8d604096-ddae-415b-807c-b08f5b963b50"
      },
      "execution_count": null,
      "outputs": [
        {
          "output_type": "stream",
          "name": "stdout",
          "text": [
            "Collecting medpy\n",
            "  Downloading medpy-0.5.2.tar.gz (156 kB)\n",
            "\u001b[?25l     \u001b[90m━━━━━━━━━━━━━━━━━━━━━━━━━━━━━━━━━━━━━━━━\u001b[0m \u001b[32m0.0/156.3 kB\u001b[0m \u001b[31m?\u001b[0m eta \u001b[36m-:--:--\u001b[0m\r\u001b[2K     \u001b[90m━━━━━━━━━━━━━━━━━━━━━━━━━━━━━━━━━━━━━━━━\u001b[0m \u001b[32m156.3/156.3 kB\u001b[0m \u001b[31m12.1 MB/s\u001b[0m eta \u001b[36m0:00:00\u001b[0m\n",
            "\u001b[?25h  Preparing metadata (setup.py) ... \u001b[?25l\u001b[?25hdone\n",
            "Requirement already satisfied: scipy>=1.10 in /usr/local/lib/python3.10/dist-packages (from medpy) (1.13.1)\n",
            "Requirement already satisfied: numpy>=1.24 in /usr/local/lib/python3.10/dist-packages (from medpy) (1.26.4)\n",
            "Collecting SimpleITK>=2.1 (from medpy)\n",
            "  Downloading SimpleITK-2.4.0-cp310-cp310-manylinux_2_17_x86_64.manylinux2014_x86_64.whl.metadata (7.9 kB)\n",
            "Downloading SimpleITK-2.4.0-cp310-cp310-manylinux_2_17_x86_64.manylinux2014_x86_64.whl (52.4 MB)\n",
            "\u001b[2K   \u001b[90m━━━━━━━━━━━━━━━━━━━━━━━━━━━━━━━━━━━━━━━━\u001b[0m \u001b[32m52.4/52.4 MB\u001b[0m \u001b[31m12.4 MB/s\u001b[0m eta \u001b[36m0:00:00\u001b[0m\n",
            "\u001b[?25hBuilding wheels for collected packages: medpy\n",
            "  Building wheel for medpy (setup.py) ... \u001b[?25l\u001b[?25hdone\n",
            "  Created wheel for medpy: filename=MedPy-0.5.2-cp310-cp310-linux_x86_64.whl size=762834 sha256=0964a59a1816b22a9163d45d3a491b82daac9b56b42365754a775de67d961fe1\n",
            "  Stored in directory: /root/.cache/pip/wheels/a1/b8/63/bdf557940ec60d1b8822e73ff9fbe7727ac19f009d46b5d175\n",
            "Successfully built medpy\n",
            "Installing collected packages: SimpleITK, medpy\n",
            "Successfully installed SimpleITK-2.4.0 medpy-0.5.2\n",
            "===== EPOCH 0 =====\n",
            "\n",
            "train_loss: 0.9316742761568589\n",
            "\n",
            "val_loss: 0.9813550114631653\n",
            "\n",
            "===== EPOCH 1 =====\n",
            "\n",
            "train_loss: 0.8664089931683107\n",
            "\n",
            "val_loss: 0.9442951083183289\n",
            "\n",
            "===== EPOCH 2 =====\n",
            "\n",
            "train_loss: 0.721619525551796\n",
            "\n",
            "val_loss: 0.813779354095459\n",
            "\n",
            "===== EPOCH 3 =====\n",
            "\n",
            "train_loss: 0.5216712848706679\n",
            "\n",
            "val_loss: 0.5576920509338379\n",
            "\n",
            "===== EPOCH 4 =====\n",
            "\n",
            "train_loss: 0.36718962382186543\n",
            "\n",
            "val_loss: 0.3448489308357239\n",
            "\n",
            "===== EPOCH 5 =====\n",
            "\n",
            "train_loss: 0.29276856536215\n",
            "\n",
            "val_loss: 0.1753081977367401\n",
            "\n",
            "===== EPOCH 6 =====\n",
            "\n",
            "train_loss: 0.24752005988901313\n",
            "\n",
            "val_loss: 0.16029256582260132\n",
            "\n",
            "===== EPOCH 7 =====\n",
            "\n",
            "train_loss: 0.23051197853955355\n",
            "\n",
            "val_loss: 0.08134760707616806\n",
            "\n",
            "===== EPOCH 8 =====\n",
            "\n",
            "train_loss: 0.21564157659357244\n",
            "\n",
            "val_loss: 0.0599961094558239\n",
            "\n",
            "===== EPOCH 9 =====\n",
            "\n",
            "train_loss: 0.2031403901902112\n",
            "\n",
            "val_loss: 0.04251042753458023\n",
            "\n",
            "===== EPOCH 10 =====\n",
            "\n",
            "train_loss: 0.19519583989273417\n",
            "\n",
            "val_loss: 0.031911060214042664\n",
            "\n",
            "===== EPOCH 11 =====\n",
            "\n",
            "train_loss: 0.17801508009433747\n",
            "\n",
            "val_loss: 0.022095216438174248\n",
            "\n",
            "===== EPOCH 12 =====\n",
            "\n",
            "train_loss: 0.15829367637634278\n",
            "\n",
            "val_loss: 0.020400207489728928\n",
            "\n",
            "===== EPOCH 13 =====\n",
            "\n",
            "train_loss: 0.15384580113671043\n",
            "\n",
            "val_loss: 0.020290127024054527\n",
            "\n",
            "===== EPOCH 14 =====\n",
            "\n",
            "train_loss: 0.14942529743367974\n",
            "\n",
            "val_loss: 0.022629745304584503\n",
            "\n",
            "Best validation mean DSC: 0.000000\n"
          ]
        }
      ]
    },
    {
      "cell_type": "markdown",
      "source": [
        "Plot training loss"
      ],
      "metadata": {
        "id": "45n6XCG19Cjn"
      }
    },
    {
      "cell_type": "code",
      "source": [
        "import matplotlib.pyplot as plt\n",
        "x_label = [int(x) for x in range(1, len(history[\"train\"]) + 1)]\n",
        "plt.plot(x_label, history[\"train\"], label=\"train\")\n",
        "plt.plot(x_label, history[\"valid\"], label=\"validation\")\n",
        "plt.xticks(x_label)\n",
        "plt.xlabel(\"epoch\")\n",
        "plt.ylabel(\"loss\")\n",
        "plt.legend()\n",
        "plt.show()"
      ],
      "metadata": {
        "colab": {
          "base_uri": "https://localhost:8080/",
          "height": 449
        },
        "id": "tdKfz8wx9B1X",
        "outputId": "125d7682-76b8-4002-fc1c-85c631a48c71"
      },
      "execution_count": null,
      "outputs": [
        {
          "output_type": "display_data",
          "data": {
            "text/plain": [
              "<Figure size 640x480 with 1 Axes>"
            ],
            "image/png": "[encoded data removed]"
          },
          "metadata": {}
        }
      ]
    },
    {
      "cell_type": "code",
      "source": [
        "dice_loss = DiceLoss()\n",
        "iou_loss = IoULoss()\n",
        "\n",
        "test_dice_loss = {}\n",
        "test_iou_loss = {}\n",
        "for i, data in enumerate(test_dl):\n",
        "  x, y_true, info = data\n",
        "  x, y_true = x.to(device), y_true.to(device)\n",
        "  with torch.no_grad():\n",
        "    y_pred = net(x)\n",
        "    loss_dice = dice_loss(y_pred, y_true)\n",
        "    loss_iou = iou_loss(y_pred, y_true)\n",
        "    add_loss_by_patient(test_dice_loss, info, dice_loss)\n",
        "    add_loss_by_patient(test_iou_loss, info, iou_loss)\n",
        "print(f\"iou loss: {np.mean([np.mean(v) for k,v in test_iou_loss.items()])}, dice loss: {np.mean([np.mean(v) for k,v in test_dice_loss.items()])}\")"
      ],
      "metadata": {
        "colab": {
          "base_uri": "https://localhost:8080/"
        },
        "id": "EC62r_yeR0nF",
        "outputId": "128b0e4a-069e-41ca-bb83-3b81edab642b"
      },
      "execution_count": null,
      "outputs": [
        {
          "output_type": "stream",
          "name": "stdout",
          "text": [
            "together: 0.4575604498386383\n",
            "sep: 0.22021223604679108\n",
            "together: 0.3900300860404968\n",
            "sep: 0.1858362853527069\n",
            "together: 0.24529670178890228\n",
            "sep: 0.7740047574043274\n",
            "together: 0.4222090542316437\n",
            "sep: 0.15999460220336914\n",
            "together: 0.43526899814605713\n",
            "sep: 0.8087870478630066\n",
            "together: 0.3744686245918274\n",
            "sep: 0.2385692447423935\n",
            "together: 0.5934435725212097\n",
            "sep: 0.8459777235984802\n"
          ]
        }
      ]
    },
    {
      "cell_type": "markdown",
      "source": [
        "Generate the segmentated data for each test patient."
      ],
      "metadata": {
        "id": "QQRirk8-MCRe"
      }
    },
    {
      "cell_type": "code",
      "source": [
        "import pathlib\n",
        "for i, data in enumerate(test_ds):\n",
        "    show_segmentation(test_ds, i, net, threshold=0.9)\n",
        "    n = data[2].split(\"_\")\n",
        "    folder = pathlib.Path(HyperParameters.WEIGHTS_PATH) / n[3]\n",
        "    folder.mkdir(exist_ok=True)\n",
        "    plt.savefig(folder / n[4])"
      ],
      "metadata": {
        "colab": {
          "base_uri": "https://localhost:8080/",
          "height": 452
        },
        "id": "jAm9KG5ES87L",
        "outputId": "b04bb794-f64e-4780-fc0e-93c1cc54195c"
      },
      "execution_count": null,
      "outputs": [
        {
          "output_type": "display_data",
          "data": {
            "text/plain": [
              "<Figure size 640x480 with 1 Axes>"
            ],
            "image/png": "[encoded data removed]"
          },
          "metadata": {}
        }
      ]
    },
    {
      "cell_type": "code",
      "source": [
        "import pathlib\n",
        "file_names = sorted(pathlib.Path(\"/content/data/\").glob(\"TCGA*\"))\n",
        "for file_name in file_names:\n",
        "    n = file_name.name.split(\"_\")\n",
        "    folder = pathlib.Path(HyperParameters.WEIGHTS_PATH) / n[3]\n",
        "    folder.mkdir(exist_ok=True)\n",
        "    file_name.rename(folder / n[4])"
      ],
      "metadata": {
        "colab": {
          "base_uri": "https://localhost:8080/",
          "height": 315
        },
        "id": "XaLKQ-b8dSoW",
        "outputId": "fe408b1e-54d2-44da-8ba4-6b6786800d81"
      },
      "execution_count": null,
      "outputs": [
        {
          "output_type": "error",
          "ename": "OSError",
          "evalue": "[Errno 18] Invalid cross-device link: '/content/data/TCGA_CS_4941_19960909_1.tif' -> '/content/drive/MyDrive/brain/19960909/1.tif'",
          "traceback": [
            "\u001b[0;31m---------------------------------------------------------------------------\u001b[0m",
            "\u001b[0;31mOSError\u001b[0m                                   Traceback (most recent call last)",
            "\u001b[0;32m<ipython-input-28-4777a59ee69a>\u001b[0m in \u001b[0;36m<cell line: 3>\u001b[0;34m()\u001b[0m\n\u001b[1;32m      5\u001b[0m     \u001b[0mfolder\u001b[0m \u001b[0;34m=\u001b[0m \u001b[0mpathlib\u001b[0m\u001b[0;34m.\u001b[0m\u001b[0mPath\u001b[0m\u001b[0;34m(\u001b[0m\u001b[0mHyperParameters\u001b[0m\u001b[0;34m.\u001b[0m\u001b[0mWEIGHTS_PATH\u001b[0m\u001b[0;34m)\u001b[0m \u001b[0;34m/\u001b[0m \u001b[0mn\u001b[0m\u001b[0;34m[\u001b[0m\u001b[0;36m3\u001b[0m\u001b[0;34m]\u001b[0m\u001b[0;34m\u001b[0m\u001b[0;34m\u001b[0m\u001b[0m\n\u001b[1;32m      6\u001b[0m     \u001b[0mfolder\u001b[0m\u001b[0;34m.\u001b[0m\u001b[0mmkdir\u001b[0m\u001b[0;34m(\u001b[0m\u001b[0mexist_ok\u001b[0m\u001b[0;34m=\u001b[0m\u001b[0;32mTrue\u001b[0m\u001b[0;34m)\u001b[0m\u001b[0;34m\u001b[0m\u001b[0;34m\u001b[0m\u001b[0m\n\u001b[0;32m----> 7\u001b[0;31m     \u001b[0mfile_name\u001b[0m\u001b[0;34m.\u001b[0m\u001b[0mrename\u001b[0m\u001b[0;34m(\u001b[0m\u001b[0mfolder\u001b[0m \u001b[0;34m/\u001b[0m \u001b[0mn\u001b[0m\u001b[0;34m[\u001b[0m\u001b[0;36m4\u001b[0m\u001b[0;34m]\u001b[0m\u001b[0;34m)\u001b[0m\u001b[0;34m\u001b[0m\u001b[0;34m\u001b[0m\u001b[0m\n\u001b[0m",
            "\u001b[0;32m/usr/lib/python3.10/pathlib.py\u001b[0m in \u001b[0;36mrename\u001b[0;34m(self, target)\u001b[0m\n\u001b[1;32m   1232\u001b[0m         \u001b[0mReturns\u001b[0m \u001b[0mthe\u001b[0m \u001b[0mnew\u001b[0m \u001b[0mPath\u001b[0m \u001b[0minstance\u001b[0m \u001b[0mpointing\u001b[0m \u001b[0mto\u001b[0m \u001b[0mthe\u001b[0m \u001b[0mtarget\u001b[0m \u001b[0mpath\u001b[0m\u001b[0;34m.\u001b[0m\u001b[0;34m\u001b[0m\u001b[0;34m\u001b[0m\u001b[0m\n\u001b[1;32m   1233\u001b[0m         \"\"\"\n\u001b[0;32m-> 1234\u001b[0;31m         \u001b[0mself\u001b[0m\u001b[0;34m.\u001b[0m\u001b[0m_accessor\u001b[0m\u001b[0;34m.\u001b[0m\u001b[0mrename\u001b[0m\u001b[0;34m(\u001b[0m\u001b[0mself\u001b[0m\u001b[0;34m,\u001b[0m \u001b[0mtarget\u001b[0m\u001b[0;34m)\u001b[0m\u001b[0;34m\u001b[0m\u001b[0;34m\u001b[0m\u001b[0m\n\u001b[0m\u001b[1;32m   1235\u001b[0m         \u001b[0;32mreturn\u001b[0m \u001b[0mself\u001b[0m\u001b[0;34m.\u001b[0m\u001b[0m__class__\u001b[0m\u001b[0;34m(\u001b[0m\u001b[0mtarget\u001b[0m\u001b[0;34m)\u001b[0m\u001b[0;34m\u001b[0m\u001b[0;34m\u001b[0m\u001b[0m\n\u001b[1;32m   1236\u001b[0m \u001b[0;34m\u001b[0m\u001b[0m\n",
            "\u001b[0;31mOSError\u001b[0m: [Errno 18] Invalid cross-device link: '/content/data/TCGA_CS_4941_19960909_1.tif' -> '/content/drive/MyDrive/brain/19960909/1.tif'"
          ]
        }
      ]
    },
    {
      "cell_type": "code",
      "source": [
        "torch.save(net.state_dict(), HyperParameters.WEIGHTS_PATH / \"separated1UNet.pt\")"
      ],
      "metadata": {
        "id": "8I_qnCj4tjvx"
      },
      "execution_count": null,
      "outputs": []
    }
  ]
}